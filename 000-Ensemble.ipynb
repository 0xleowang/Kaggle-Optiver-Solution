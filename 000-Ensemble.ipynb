{
 "metadata": {
  "language_info": {
   "codemirror_mode": {
    "name": "ipython",
    "version": 3
   },
   "file_extension": ".py",
   "mimetype": "text/x-python",
   "name": "python",
   "nbconvert_exporter": "python",
   "pygments_lexer": "ipython3",
   "version": "3.7.10"
  },
  "orig_nbformat": 4,
  "kernelspec": {
   "name": "python3",
   "display_name": "Python 3.7.10 64-bit ('gpu': conda)"
  },
  "interpreter": {
   "hash": "92e15e089105a7a863a6daf4d8bb8fefc62afebb9ac515f25b6afacc0274c8c5"
  }
 },
 "nbformat": 4,
 "nbformat_minor": 2,
 "cells": [
  {
   "cell_type": "code",
   "execution_count": 22,
   "source": [
    "%reload_ext autoreload\n",
    "%autoreload 2\n",
    "\n",
    "import glob\n",
    "import os, gc\n",
    "import numpy as numpy\n",
    "import pandas as pd\n",
    "import datatable as dt\n",
    "import scipy as sp\n",
    "from collections import defaultdict\n",
    "from tqdm.notebook import tqdm\n",
    "from sklearn.metrics import r2_score\n",
    "from numba import njit\n",
    "from utils import *\n",
    "\n",
    "from numba_functions import *\n",
    "from IPython.display import clear_output"
   ],
   "outputs": [],
   "metadata": {}
  },
  {
   "cell_type": "code",
   "execution_count": 23,
   "source": [
    "# CONSTANT\n",
    "MEAN = -5.762330803300896\n",
    "STD = 0.6339307835941186\n",
    "EPS = 1e-9"
   ],
   "outputs": [],
   "metadata": {}
  },
  {
   "cell_type": "code",
   "execution_count": 24,
   "source": [
    "def transform_target(target):\n",
    "    return (np.log(target + EPS) - MEAN) / STD\n",
    "\n",
    "def inverse_target(target):\n",
    "    return np.exp(MEAN + STD * target) - EPS"
   ],
   "outputs": [],
   "metadata": {}
  },
  {
   "cell_type": "code",
   "execution_count": 30,
   "source": [
    "class OptimizeMSPE:\n",
    "    def __init__(self, transform=False):\n",
    "        self.coef_ = 0\n",
    "        self.transform_ = transform\n",
    "        \n",
    "    \n",
    "    def _mspe(self, coef, X, y):\n",
    "        # create predictions by taking row wise sum\n",
    "        if self.transform_:\n",
    "            X = transform_target(X)\n",
    "\n",
    "        y_hat = np.sum(X * coef, axis=1)\n",
    "\n",
    "        if self.transform_:\n",
    "            y_hat = inverse_target(y_hat)\n",
    "\n",
    "        mspe_score = np.mean(np.square((y - y_hat) / y))\n",
    "\n",
    "        return mspe_score\n",
    "    \n",
    "    def fit(self, X, y):\n",
    "        from functools import partial\n",
    "        loss_partial = partial(self._mspe, X=X, y=y)\n",
    "        initial_coef = np.random.dirichlet(np.ones(X.shape[1]), size=1)\n",
    "        # initial_coef = np.zeros(X.shape[1])\n",
    "\n",
    "        self.result_ = sp.optimize.minimize(loss_partial, x0=initial_coef, \n",
    "            method='SLSQP',\n",
    "            jac='3-point',\n",
    "            options=dict(\n",
    "                ftol=1e-10,\n",
    "                disp=True,\n",
    "            )\n",
    "        )\n",
    "        self.coef_ = self.result_.x\n",
    "        print('RMSPE: ', np.sqrt(loss_partial(self.coef_)))\n",
    "\n",
    "    def predict(self, X):\n",
    "        if self.transform_:\n",
    "            X = transform_target(X)\n",
    "        y_pred = np.sum(X * self.coef_, axis=1)\n",
    "        if self.transform_:\n",
    "            y_pred = inverse_target(y_pred)\n",
    "        return y_pred"
   ],
   "outputs": [],
   "metadata": {}
  },
  {
   "cell_type": "markdown",
   "source": [
    "# Load results csv"
   ],
   "metadata": {}
  },
  {
   "cell_type": "code",
   "execution_count": 26,
   "source": [
    "list_result_names = [path.lstrip('./results/').rstrip('.csv') for path in glob.glob('./results/*.csv')]\n",
    "list_result_names.remove('OptimizeRV')\n",
    "list_result_names"
   ],
   "outputs": [
    {
     "output_type": "execute_result",
     "data": {
      "text/plain": [
       "['501-WaveNet',\n",
       " '501-MLP',\n",
       " '601-cfr',\n",
       " '501-TabNet',\n",
       " '601-LGB',\n",
       " '501-1dCNN',\n",
       " '601-TabNet',\n",
       " '501-UNet',\n",
       " '601-MLP',\n",
       " '601-1dCNN',\n",
       " '601-CAT']"
      ]
     },
     "metadata": {},
     "execution_count": 26
    }
   ],
   "metadata": {}
  },
  {
   "cell_type": "code",
   "execution_count": 27,
   "source": [
    "df_result = pd.read_csv('./dataset/train.csv')\n",
    "for result_name in list_result_names:\n",
    "    df_pred = pd.read_csv(f'./results/{result_name}.csv')\n",
    "    if 'pred' not in df_pred:\n",
    "        df_pred['pred'] = df_pred[[f for f in df_pred if f.startswith('pred_')]].mean(axis=1)\n",
    "    df_pred.rename(columns={'pred': f'pred_{result_name}'}, inplace=True)\n",
    "    df_result = df_result.merge(df_pred[['stock_id', 'time_id', f'pred_{result_name}']], on=['stock_id', 'time_id'], how='inner', validate='one_to_one')\n",
    "\n",
    "# OptimizeRV\n",
    "df_pred = pd.read_csv('results/OptimizeRV.csv')\n",
    "df_pred.rename(columns={'rv_new': f'pred_OptimizeRV'}, inplace=True)\n",
    "df_result = df_result.merge(df_pred[['stock_id', 'time_id', 'pred_OptimizeRV']], on=['stock_id', 'time_id'], how='inner', validate='one_to_one')\n",
    "\n",
    "print(df_result.isna().any().any())\n",
    "df_result.head()"
   ],
   "outputs": [
    {
     "output_type": "stream",
     "name": "stdout",
     "text": [
      "False\n"
     ]
    },
    {
     "output_type": "execute_result",
     "data": {
      "text/html": [
       "<div>\n",
       "<style scoped>\n",
       "    .dataframe tbody tr th:only-of-type {\n",
       "        vertical-align: middle;\n",
       "    }\n",
       "\n",
       "    .dataframe tbody tr th {\n",
       "        vertical-align: top;\n",
       "    }\n",
       "\n",
       "    .dataframe thead th {\n",
       "        text-align: right;\n",
       "    }\n",
       "</style>\n",
       "<table border=\"1\" class=\"dataframe\">\n",
       "  <thead>\n",
       "    <tr style=\"text-align: right;\">\n",
       "      <th></th>\n",
       "      <th>stock_id</th>\n",
       "      <th>time_id</th>\n",
       "      <th>target</th>\n",
       "      <th>pred_501-WaveNet</th>\n",
       "      <th>pred_501-MLP</th>\n",
       "      <th>pred_601-cfr</th>\n",
       "      <th>pred_501-TabNet</th>\n",
       "      <th>pred_601-LGB</th>\n",
       "      <th>pred_501-1dCNN</th>\n",
       "      <th>pred_601-TabNet</th>\n",
       "      <th>pred_501-UNet</th>\n",
       "      <th>pred_601-MLP</th>\n",
       "      <th>pred_601-1dCNN</th>\n",
       "      <th>pred_601-CAT</th>\n",
       "      <th>pred_OptimizeRV</th>\n",
       "    </tr>\n",
       "  </thead>\n",
       "  <tbody>\n",
       "    <tr>\n",
       "      <th>0</th>\n",
       "      <td>0</td>\n",
       "      <td>5</td>\n",
       "      <td>0.004136</td>\n",
       "      <td>0.003771</td>\n",
       "      <td>0.003921</td>\n",
       "      <td>0.003813</td>\n",
       "      <td>0.003946</td>\n",
       "      <td>0.004056</td>\n",
       "      <td>0.003857</td>\n",
       "      <td>0.003786</td>\n",
       "      <td>0.003921</td>\n",
       "      <td>0.003678</td>\n",
       "      <td>0.003560</td>\n",
       "      <td>0.004046</td>\n",
       "      <td>0.003399</td>\n",
       "    </tr>\n",
       "    <tr>\n",
       "      <th>1</th>\n",
       "      <td>0</td>\n",
       "      <td>11</td>\n",
       "      <td>0.001445</td>\n",
       "      <td>0.001823</td>\n",
       "      <td>0.001635</td>\n",
       "      <td>0.001626</td>\n",
       "      <td>0.001657</td>\n",
       "      <td>0.001511</td>\n",
       "      <td>0.001565</td>\n",
       "      <td>0.001469</td>\n",
       "      <td>0.001640</td>\n",
       "      <td>0.001507</td>\n",
       "      <td>0.001480</td>\n",
       "      <td>0.001551</td>\n",
       "      <td>0.001169</td>\n",
       "    </tr>\n",
       "    <tr>\n",
       "      <th>2</th>\n",
       "      <td>0</td>\n",
       "      <td>16</td>\n",
       "      <td>0.002168</td>\n",
       "      <td>0.002323</td>\n",
       "      <td>0.002322</td>\n",
       "      <td>0.002177</td>\n",
       "      <td>0.002361</td>\n",
       "      <td>0.002300</td>\n",
       "      <td>0.002207</td>\n",
       "      <td>0.002306</td>\n",
       "      <td>0.002317</td>\n",
       "      <td>0.002437</td>\n",
       "      <td>0.002363</td>\n",
       "      <td>0.002460</td>\n",
       "      <td>0.002230</td>\n",
       "    </tr>\n",
       "    <tr>\n",
       "      <th>3</th>\n",
       "      <td>0</td>\n",
       "      <td>31</td>\n",
       "      <td>0.002195</td>\n",
       "      <td>0.002130</td>\n",
       "      <td>0.002206</td>\n",
       "      <td>0.001973</td>\n",
       "      <td>0.002187</td>\n",
       "      <td>0.001978</td>\n",
       "      <td>0.002103</td>\n",
       "      <td>0.001819</td>\n",
       "      <td>0.002164</td>\n",
       "      <td>0.001906</td>\n",
       "      <td>0.001979</td>\n",
       "      <td>0.002035</td>\n",
       "      <td>0.002524</td>\n",
       "    </tr>\n",
       "    <tr>\n",
       "      <th>4</th>\n",
       "      <td>0</td>\n",
       "      <td>62</td>\n",
       "      <td>0.001747</td>\n",
       "      <td>0.001697</td>\n",
       "      <td>0.001648</td>\n",
       "      <td>0.001682</td>\n",
       "      <td>0.001636</td>\n",
       "      <td>0.001615</td>\n",
       "      <td>0.001641</td>\n",
       "      <td>0.001711</td>\n",
       "      <td>0.001649</td>\n",
       "      <td>0.001621</td>\n",
       "      <td>0.001598</td>\n",
       "      <td>0.001654</td>\n",
       "      <td>0.001553</td>\n",
       "    </tr>\n",
       "  </tbody>\n",
       "</table>\n",
       "</div>"
      ],
      "text/plain": [
       "   stock_id  time_id    target  pred_501-WaveNet  pred_501-MLP  pred_601-cfr  \\\n",
       "0         0        5  0.004136          0.003771      0.003921      0.003813   \n",
       "1         0       11  0.001445          0.001823      0.001635      0.001626   \n",
       "2         0       16  0.002168          0.002323      0.002322      0.002177   \n",
       "3         0       31  0.002195          0.002130      0.002206      0.001973   \n",
       "4         0       62  0.001747          0.001697      0.001648      0.001682   \n",
       "\n",
       "   pred_501-TabNet  pred_601-LGB  pred_501-1dCNN  pred_601-TabNet  \\\n",
       "0         0.003946      0.004056        0.003857         0.003786   \n",
       "1         0.001657      0.001511        0.001565         0.001469   \n",
       "2         0.002361      0.002300        0.002207         0.002306   \n",
       "3         0.002187      0.001978        0.002103         0.001819   \n",
       "4         0.001636      0.001615        0.001641         0.001711   \n",
       "\n",
       "   pred_501-UNet  pred_601-MLP  pred_601-1dCNN  pred_601-CAT  pred_OptimizeRV  \n",
       "0       0.003921      0.003678        0.003560      0.004046         0.003399  \n",
       "1       0.001640      0.001507        0.001480      0.001551         0.001169  \n",
       "2       0.002317      0.002437        0.002363      0.002460         0.002230  \n",
       "3       0.002164      0.001906        0.001979      0.002035         0.002524  \n",
       "4       0.001649      0.001621        0.001598      0.001654         0.001553  "
      ]
     },
     "metadata": {},
     "execution_count": 27
    }
   ],
   "metadata": {}
  },
  {
   "cell_type": "code",
   "execution_count": 46,
   "source": [
    "removed_row_ids = ['31-25504', '31-27174']\n",
    "df_query = df_result.loc[~df_result.row_id.isin(removed_row_ids)]\n",
    "print(removed_row_ids)\n",
    "print(rmspe(df_result['target'], df_result['pred_501-MLP']))\n",
    "print(rmspe(df_query['target'], df_query['pred_501-MLP']))"
   ],
   "outputs": [
    {
     "output_type": "stream",
     "name": "stdout",
     "text": [
      "['31-25504', '31-27174']\n",
      "0.20939128074512814\n",
      "0.20794027092230224\n"
     ]
    }
   ],
   "metadata": {}
  },
  {
   "cell_type": "markdown",
   "source": [
    "# Ensemble Together"
   ],
   "metadata": {}
  },
  {
   "cell_type": "code",
   "execution_count": 28,
   "source": [
    "pred_cols = [f for f in df_result if f.startswith('pred_')]\n",
    "pred_cols_disp = [c.lower().replace('-', '_') for c in pred_cols]\n",
    "print('pred_cols =', pred_cols_disp)\n",
    "opt = OptimizeMSPE(transform=False)\n",
    "opt.fit(df_result[pred_cols].values, df_result['target'].values)\n",
    "print('coef_ = [', ', '.join(map(str, opt.coef_)), ']')\n",
    "\n",
    "opt = OptimizeMSPE(transform=True)\n",
    "opt.fit(df_result[pred_cols].values, df_result['target'].values)\n",
    "print('coef_ = [', ', '.join(map(str, opt.coef_)), ']')"
   ],
   "outputs": [
    {
     "output_type": "stream",
     "name": "stdout",
     "text": [
      "pred_cols = ['pred_501_wavenet', 'pred_501_mlp', 'pred_601_cfr', 'pred_501_tabnet', 'pred_601_lgb', 'pred_501_1dcnn', 'pred_601_tabnet', 'pred_501_unet', 'pred_601_mlp', 'pred_601_1dcnn', 'pred_601_cat', 'pred_optimizerv']\n",
      "Optimization terminated successfully    (Exit mode 0)\n",
      "            Current function value: 0.042144095691129695\n",
      "            Iterations: 54\n",
      "            Function evaluations: 1353\n",
      "            Gradient evaluations: 54\n",
      "RMSPE:  0.20529027178882514\n",
      "coef_ = [ 0.04185692187336371, 0.22359353665652743, -0.043730174113198975, 0.29970337570898237, 0.150631400441942, -0.0014968965221374782, 0.06126529401030603, -0.059603937841766576, 0.34195366349473927, 0.17287214655559283, -0.1658692387341289, -0.02339794028936296 ]\n",
      "Optimization terminated successfully    (Exit mode 0)\n",
      "            Current function value: 0.042136183775607766\n",
      "            Iterations: 53\n",
      "            Function evaluations: 1326\n",
      "            Gradient evaluations: 53\n",
      "RMSPE:  0.20527100081503907\n",
      "coef_ = [ 0.037752622247413284, 0.22577322173255032, -0.034064769541283776, 0.27052109649401324, 0.1508408896604805, -0.014450138645822206, 0.053640284734995256, -0.01741925486819762, 0.3038357321128356, 0.2110836931256984, -0.16188063026142258, -0.017688525325698666 ]\n"
     ]
    }
   ],
   "metadata": {}
  },
  {
   "cell_type": "markdown",
   "source": [
    "# Seperate 501 and 601"
   ],
   "metadata": {}
  },
  {
   "cell_type": "code",
   "execution_count": 31,
   "source": [
    "# 501\n",
    "pred_cols = [f for f in df_result if f.startswith('pred_') and '501' in f]\n",
    "pred_cols_disp = [c.lower().replace('-', '_') for c in pred_cols]\n",
    "print('pred_cols =', pred_cols_disp)\n",
    "opt = OptimizeMSPE(transform=False)\n",
    "opt.fit(df_result[pred_cols].values, df_result['target'].values)\n",
    "print('coef_ = [', ', '.join(map(str, opt.coef_)), ']')\n",
    "\n",
    "opt = OptimizeMSPE(transform=True)\n",
    "opt.fit(df_result[pred_cols].values, df_result['target'].values)\n",
    "print('coef_ = [', ', '.join(map(str, opt.coef_)), ']')\n",
    "\n",
    "df_result['fpred_501'] = opt.predict(df_result[pred_cols].values)"
   ],
   "outputs": [
    {
     "output_type": "stream",
     "name": "stdout",
     "text": [
      "pred_cols = ['pred_501_wavenet', 'pred_501_mlp', 'pred_501_tabnet', 'pred_501_1dcnn', 'pred_501_unet']\n",
      "Optimization terminated successfully    (Exit mode 0)\n",
      "            Current function value: 0.043252330247570685\n",
      "            Iterations: 17\n",
      "            Function evaluations: 188\n",
      "            Gradient evaluations: 17\n",
      "RMSPE:  0.20797194581859035\n",
      "coef_ = [ 0.06431492974981139, 0.395374708848404, 0.46401136450128855, 0.10897283383711862, -0.035292540351464854 ]\n",
      "Optimization terminated successfully    (Exit mode 0)\n",
      "            Current function value: 0.04322896511507816\n",
      "            Iterations: 36\n",
      "            Function evaluations: 397\n",
      "            Gradient evaluations: 36\n",
      "RMSPE:  0.20791576446984045\n",
      "coef_ = [ 0.06325215538145833, 0.3766310446758944, 0.4487462778244628, 0.11239907244301549, 0.0048943329613022005 ]\n"
     ]
    }
   ],
   "metadata": {}
  },
  {
   "cell_type": "code",
   "execution_count": 32,
   "source": [
    "# 601\n",
    "pred_cols = [f for f in df_result if f.startswith('pred_') and '601' in f]\n",
    "pred_cols_disp = [c.lower().replace('-', '_') for c in pred_cols]\n",
    "print('pred_cols =', pred_cols_disp)\n",
    "opt = OptimizeMSPE(transform=False)\n",
    "opt.fit(df_result[pred_cols].values, df_result['target'].values)\n",
    "print('coef_ = [', ', '.join(map(str, opt.coef_)), ']')\n",
    "\n",
    "opt = OptimizeMSPE(transform=True)\n",
    "opt.fit(df_result[pred_cols].values, df_result['target'].values)\n",
    "print('coef_ = [', ', '.join(map(str, opt.coef_)), ']')\n",
    "df_result['fpred_601'] = opt.predict(df_result[pred_cols].values)"
   ],
   "outputs": [
    {
     "output_type": "stream",
     "name": "stdout",
     "text": [
      "pred_cols = ['pred_601_cfr', 'pred_601_lgb', 'pred_601_tabnet', 'pred_601_mlp', 'pred_601_1dcnn', 'pred_601_cat']\n",
      "Optimization terminated successfully    (Exit mode 0)\n",
      "            Current function value: 0.042938995495149894\n",
      "            Iterations: 26\n",
      "            Function evaluations: 339\n",
      "            Gradient evaluations: 26\n",
      "RMSPE:  0.20721726640207833\n",
      "coef_ = [ 0.018812468318657804, 0.16918620047399174, 0.22850562679269684, 0.4484921565680106, 0.2523474092559502, -0.11911314015836186 ]\n",
      "Optimization terminated successfully    (Exit mode 0)\n",
      "            Current function value: 0.042905255823901874\n",
      "            Iterations: 35\n",
      "            Function evaluations: 456\n",
      "            Gradient evaluations: 35\n",
      "RMSPE:  0.20713583906195923\n",
      "coef_ = [ 0.03567145436118382, 0.171988013958782, 0.22237535010846676, 0.4199231435976319, 0.26636665446742797, -0.10963075179106067 ]\n"
     ]
    }
   ],
   "metadata": {}
  },
  {
   "cell_type": "code",
   "execution_count": 34,
   "source": [
    "# 501 + 601\n",
    "pred_cols = [f for f in df_result if f.startswith('fpred_')]\n",
    "pred_cols_disp = [c.lower().replace('-', '_') for c in pred_cols]\n",
    "print('pred_cols =', pred_cols_disp)\n",
    "opt = OptimizeMSPE(transform=True)\n",
    "opt.fit(df_result[pred_cols].values, df_result['target'].values)\n",
    "print('coef_ = [', ', '.join(map(str, opt.coef_)), ']')\n",
    "df_result['_fpred_all'] = opt.predict(df_result[pred_cols].values)"
   ],
   "outputs": [
    {
     "output_type": "stream",
     "name": "stdout",
     "text": [
      "pred_cols = ['fpred_501', 'fpred_601']\n",
      "Optimization terminated successfully    (Exit mode 0)\n",
      "            Current function value: 0.04223201481093635\n",
      "            Iterations: 12\n",
      "            Function evaluations: 60\n",
      "            Gradient evaluations: 12\n",
      "RMSPE:  0.2055042938990238\n",
      "coef_ = [ 0.4496154243643552, 0.5526525394467906 ]\n"
     ]
    }
   ],
   "metadata": {}
  },
  {
   "cell_type": "markdown",
   "source": [
    "# hmean"
   ],
   "metadata": {}
  },
  {
   "cell_type": "code",
   "execution_count": 35,
   "source": [
    "pred_cols = [f for f in df_result if f.startswith('fpred_')]\n",
    "pred_cols_disp = [c.lower().replace('-', '_') for c in pred_cols]\n",
    "print('pred_cols =', pred_cols_disp)\n",
    "pred_hmean = sp.stats.hmean(df_result[pred_cols].values, axis=1)\n",
    "print('RMSPE: ', rmspe(df_result['target'], pred_hmean))"
   ],
   "outputs": [
    {
     "output_type": "stream",
     "name": "stdout",
     "text": [
      "pred_cols = ['fpred_501', 'fpred_601']\n",
      "RMSPE:  0.20553242104805416\n"
     ]
    }
   ],
   "metadata": {}
  },
  {
   "cell_type": "code",
   "execution_count": null,
   "source": [
    "# df_result['bias'] = 1\n",
    "# pred_cols = [f for f in df_result if f.startswith('pred_')]\n",
    "# print(pred_cols)\n",
    "# opt = OptimizeRMSPE()\n",
    "# opt.fit(df_result[['bias']+pred_cols], df_result['target'])\n",
    "# print('coef_ = ', opt.coef_)"
   ],
   "outputs": [],
   "metadata": {}
  },
  {
   "cell_type": "code",
   "execution_count": null,
   "source": [],
   "outputs": [],
   "metadata": {}
  }
 ]
}