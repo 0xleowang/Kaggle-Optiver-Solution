{
 "metadata": {
  "language_info": {
   "codemirror_mode": {
    "name": "ipython",
    "version": 3
   },
   "file_extension": ".py",
   "mimetype": "text/x-python",
   "name": "python",
   "nbconvert_exporter": "python",
   "pygments_lexer": "ipython3",
   "version": "3.7.10"
  },
  "orig_nbformat": 4,
  "kernelspec": {
   "name": "python3",
   "display_name": "Python 3.7.10 64-bit ('gpu': conda)"
  },
  "interpreter": {
   "hash": "92e15e089105a7a863a6daf4d8bb8fefc62afebb9ac515f25b6afacc0274c8c5"
  }
 },
 "nbformat": 4,
 "nbformat_minor": 2,
 "cells": [
  {
   "cell_type": "code",
   "execution_count": 1,
   "source": [
    "%reload_ext autoreload\n",
    "%autoreload 2\n",
    "\n",
    "import glob\n",
    "import os, gc\n",
    "import numpy as numpy\n",
    "import pandas as pd\n",
    "import datatable as dt\n",
    "import scipy as sp\n",
    "from collections import defaultdict\n",
    "from tqdm.notebook import tqdm\n",
    "from sklearn.metrics import r2_score\n",
    "from numba import njit\n",
    "from utils import *\n",
    "\n",
    "from numba_functions import *\n",
    "from IPython.display import clear_output\n",
    "\n",
    "import lightgbm as lgb\n",
    "\n",
    "# TF\n",
    "import tensorflow as tf\n",
    "import tensorflow.keras.backend as K\n",
    "from tensorflow.keras.callbacks import Callback, ReduceLROnPlateau, ModelCheckpoint, EarlyStopping"
   ],
   "outputs": [
    {
     "output_type": "display_data",
     "data": {
      "text/html": [
       "<style type='text/css'>\n",
       ".datatable table.frame { margin-bottom: 0; }\n",
       ".datatable table.frame thead { border-bottom: none; }\n",
       ".datatable table.frame tr.coltypes td {  color: #FFFFFF;  line-height: 6px;  padding: 0 0.5em;}\n",
       ".datatable .bool    { background: #DDDD99; }\n",
       ".datatable .object  { background: #565656; }\n",
       ".datatable .int     { background: #5D9E5D; }\n",
       ".datatable .float   { background: #4040CC; }\n",
       ".datatable .str     { background: #CC4040; }\n",
       ".datatable .row_index {  background: var(--jp-border-color3);  border-right: 1px solid var(--jp-border-color0);  color: var(--jp-ui-font-color3);  font-size: 9px;}\n",
       ".datatable .frame tr.coltypes .row_index {  background: var(--jp-border-color0);}\n",
       ".datatable th:nth-child(2) { padding-left: 12px; }\n",
       ".datatable .hellipsis {  color: var(--jp-cell-editor-border-color);}\n",
       ".datatable .vellipsis {  background: var(--jp-layout-color0);  color: var(--jp-cell-editor-border-color);}\n",
       ".datatable .na {  color: var(--jp-cell-editor-border-color);  font-size: 80%;}\n",
       ".datatable .footer { font-size: 9px; }\n",
       ".datatable .frame_dimensions {  background: var(--jp-border-color3);  border-top: 1px solid var(--jp-border-color0);  color: var(--jp-ui-font-color3);  display: inline-block;  opacity: 0.6;  padding: 1px 10px 1px 5px;}\n",
       "</style>\n"
      ],
      "text/plain": [
       "<IPython.core.display.HTML object>"
      ]
     },
     "metadata": {}
    },
    {
     "output_type": "stream",
     "name": "stderr",
     "text": [
      "2021-09-19 21:31:06.568243: I tensorflow/stream_executor/platform/default/dso_loader.cc:49] Successfully opened dynamic library libcudart.so.11.0\n"
     ]
    }
   ],
   "metadata": {}
  },
  {
   "cell_type": "code",
   "execution_count": 2,
   "source": [
    "N_FOLD = 5\n",
    "N_MINS = 5\n",
    "MIN_SIZE = 600 // N_MINS\n",
    "\n",
    "SOL_NAME = 'Ensemble_501_601'"
   ],
   "outputs": [],
   "metadata": {}
  },
  {
   "cell_type": "code",
   "execution_count": 3,
   "source": [
    "# CONSTANT\n",
    "MEAN = -5.762330803300896\n",
    "STD = 0.6339307835941186\n",
    "EPS = 1e-9"
   ],
   "outputs": [],
   "metadata": {}
  },
  {
   "cell_type": "code",
   "execution_count": 4,
   "source": [
    "list_stock_id = get_stock_id()\n",
    "list_time_id = get_time_id()"
   ],
   "outputs": [],
   "metadata": {}
  },
  {
   "cell_type": "code",
   "execution_count": 5,
   "source": [
    "class OptimizeRMSPE:\n",
    "    def __init__(self):\n",
    "        self.coef_ = 0\n",
    "    \n",
    "    def _rmspe(self, coef, X, y):\n",
    "        # create predictions by taking row wise sum\n",
    "        predictions = np.sum(X * coef, axis=1)\n",
    "\n",
    "        # calculate auc score\n",
    "        rmspe_score = rmspe(y, predictions)\n",
    "\n",
    "        #return negative auc\n",
    "        return rmspe_score\n",
    "    \n",
    "    def fit(self, X, y):\n",
    "        from functools import partial\n",
    "        loss_partial = partial(self._rmspe, X=X, y=y)\n",
    "        initial_coef = np.random.dirichlet(np.ones(X.shape[1]), size=1)\n",
    "\n",
    "        # use scipy fmin to minimize the loss function, in our case auc\n",
    "        self.coef_ = sp.optimize.fmin(loss_partial, initial_coef, disp=True)\n",
    "\n",
    "    def predict(self, X):\n",
    "        predictions = np.sum(X * self.coef_, axis=1)\n",
    "        return predictions"
   ],
   "outputs": [],
   "metadata": {}
  },
  {
   "cell_type": "markdown",
   "source": [
    "# Ensemble"
   ],
   "metadata": {}
  },
  {
   "cell_type": "code",
   "execution_count": 6,
   "source": [
    "df_result = pd.read_csv('./dataset/train.csv')\n",
    "# list_result_names = ['501-lgb', '501-NN', '601-lgb', '601-NN']\n",
    "list_result_names = ['501-NN', '601-lgb', '601-NN', '521-NN', '501z-NN', 'HAR_results']\n",
    "for result_name in list_result_names:\n",
    "    df_pred = pd.read_csv(f'./results/{result_name}.csv')\n",
    "    df_pred.rename(columns={'pred': f'pred_{result_name}'}, inplace=True)\n",
    "    df_result = df_result.merge(df_pred[['stock_id', 'time_id', f'pred_{result_name}']], on=['stock_id', 'time_id'], how='inner', validate='one_to_one')\n",
    "print(df_result.isna().any().any())\n",
    "df_result.head()"
   ],
   "outputs": [
    {
     "output_type": "stream",
     "name": "stdout",
     "text": [
      "False\n"
     ]
    },
    {
     "output_type": "execute_result",
     "data": {
      "text/html": [
       "<div>\n",
       "<style scoped>\n",
       "    .dataframe tbody tr th:only-of-type {\n",
       "        vertical-align: middle;\n",
       "    }\n",
       "\n",
       "    .dataframe tbody tr th {\n",
       "        vertical-align: top;\n",
       "    }\n",
       "\n",
       "    .dataframe thead th {\n",
       "        text-align: right;\n",
       "    }\n",
       "</style>\n",
       "<table border=\"1\" class=\"dataframe\">\n",
       "  <thead>\n",
       "    <tr style=\"text-align: right;\">\n",
       "      <th></th>\n",
       "      <th>stock_id</th>\n",
       "      <th>time_id</th>\n",
       "      <th>target</th>\n",
       "      <th>pred_501-NN</th>\n",
       "      <th>pred_601-lgb</th>\n",
       "      <th>pred_601-NN</th>\n",
       "      <th>pred_521-NN</th>\n",
       "      <th>pred_501z-NN</th>\n",
       "      <th>pred_HAR_results</th>\n",
       "    </tr>\n",
       "  </thead>\n",
       "  <tbody>\n",
       "    <tr>\n",
       "      <th>0</th>\n",
       "      <td>0</td>\n",
       "      <td>5</td>\n",
       "      <td>0.004136</td>\n",
       "      <td>0.003920</td>\n",
       "      <td>0.003944</td>\n",
       "      <td>0.003682</td>\n",
       "      <td>0.004054</td>\n",
       "      <td>0.003916</td>\n",
       "      <td>0.003843</td>\n",
       "    </tr>\n",
       "    <tr>\n",
       "      <th>1</th>\n",
       "      <td>0</td>\n",
       "      <td>11</td>\n",
       "      <td>0.001445</td>\n",
       "      <td>0.001681</td>\n",
       "      <td>0.001515</td>\n",
       "      <td>0.001462</td>\n",
       "      <td>0.001513</td>\n",
       "      <td>0.001680</td>\n",
       "      <td>0.001540</td>\n",
       "    </tr>\n",
       "    <tr>\n",
       "      <th>2</th>\n",
       "      <td>0</td>\n",
       "      <td>16</td>\n",
       "      <td>0.002168</td>\n",
       "      <td>0.002411</td>\n",
       "      <td>0.002284</td>\n",
       "      <td>0.002416</td>\n",
       "      <td>0.002464</td>\n",
       "      <td>0.002365</td>\n",
       "      <td>0.002068</td>\n",
       "    </tr>\n",
       "    <tr>\n",
       "      <th>3</th>\n",
       "      <td>0</td>\n",
       "      <td>31</td>\n",
       "      <td>0.002195</td>\n",
       "      <td>0.002197</td>\n",
       "      <td>0.001944</td>\n",
       "      <td>0.001986</td>\n",
       "      <td>0.002179</td>\n",
       "      <td>0.002380</td>\n",
       "      <td>0.002021</td>\n",
       "    </tr>\n",
       "    <tr>\n",
       "      <th>4</th>\n",
       "      <td>0</td>\n",
       "      <td>62</td>\n",
       "      <td>0.001747</td>\n",
       "      <td>0.001463</td>\n",
       "      <td>0.001743</td>\n",
       "      <td>0.001687</td>\n",
       "      <td>0.001684</td>\n",
       "      <td>0.001680</td>\n",
       "      <td>0.001765</td>\n",
       "    </tr>\n",
       "  </tbody>\n",
       "</table>\n",
       "</div>"
      ],
      "text/plain": [
       "   stock_id  time_id    target  pred_501-NN  pred_601-lgb  pred_601-NN  \\\n",
       "0         0        5  0.004136     0.003920      0.003944     0.003682   \n",
       "1         0       11  0.001445     0.001681      0.001515     0.001462   \n",
       "2         0       16  0.002168     0.002411      0.002284     0.002416   \n",
       "3         0       31  0.002195     0.002197      0.001944     0.001986   \n",
       "4         0       62  0.001747     0.001463      0.001743     0.001687   \n",
       "\n",
       "   pred_521-NN  pred_501z-NN  pred_HAR_results  \n",
       "0     0.004054      0.003916          0.003843  \n",
       "1     0.001513      0.001680          0.001540  \n",
       "2     0.002464      0.002365          0.002068  \n",
       "3     0.002179      0.002380          0.002021  \n",
       "4     0.001684      0.001680          0.001765  "
      ]
     },
     "metadata": {},
     "execution_count": 6
    }
   ],
   "metadata": {}
  },
  {
   "cell_type": "code",
   "execution_count": 19,
   "source": [
    "pred_cols = [f'pred_{c}' for c in list_result_names]\n",
    "rmspes = np.vstack([df_result.groupby('stock_id').apply(lambda x: rmspe(x['target'], x[c])) for c in pred_cols]).T\n",
    "best_idx = np.argmin(rmspes, axis=1)"
   ],
   "outputs": [],
   "metadata": {}
  },
  {
   "cell_type": "code",
   "execution_count": 23,
   "source": [
    "for i, stock_id in enumerate(list_stock_id):\n",
    "    idx = best_idx[i]\n",
    "    df_result.loc[df_result['stock_id']==stock_id, 'pred'] = df_result.loc[df_result['stock_id']==stock_id, pred_cols[idx]]"
   ],
   "outputs": [],
   "metadata": {}
  },
  {
   "cell_type": "code",
   "execution_count": 25,
   "source": [
    "rmspe(df_result['target'], df_result['pred'])"
   ],
   "outputs": [
    {
     "output_type": "execute_result",
     "data": {
      "text/plain": [
       "0.209942483881843"
      ]
     },
     "metadata": {},
     "execution_count": 25
    }
   ],
   "metadata": {}
  },
  {
   "cell_type": "code",
   "execution_count": null,
   "source": [
    "hist = dict{(20, 30): 3, (30, 40): 5}"
   ],
   "outputs": [],
   "metadata": {}
  },
  {
   "cell_type": "code",
   "execution_count": 39,
   "source": [
    "hist = {(20, 30): 3, (30, 40): 5}\n",
    "lower, upper = 20, 40\n",
    "hist_mids = list(map(lambda x: .5*(x[0] + x[1]), hist.keys()))\n",
    "lower_mid = min([m for m in hist_mids if m > lower]) # > or >= ?\n",
    "upper_mid = max([m for m in hist_mids if m < upper])\n",
    "highlighted_bins = [k for k in hist.keys() if lower_mid <= .5*(k[0]+k[1]) <= upper_mid] # < or <=?\n",
    "lower_highlighted = min([k[0] for k in highlighted_bins])\n",
    "upper_highlighted = max([k[1] for k in highlighted_bins])"
   ],
   "outputs": [],
   "metadata": {}
  },
  {
   "cell_type": "code",
   "execution_count": 40,
   "source": [
    "highlighted_bins"
   ],
   "outputs": [
    {
     "output_type": "execute_result",
     "data": {
      "text/plain": [
       "[(20, 30), (30, 40)]"
      ]
     },
     "metadata": {},
     "execution_count": 40
    }
   ],
   "metadata": {}
  },
  {
   "cell_type": "code",
   "execution_count": 41,
   "source": [
    "def get_rec_salary_range(midpoints, x_percentile, hist):\n",
    "    lower, median, upper = rec_range_median(\n",
    "        midpoints,\n",
    "        x_percentile\n",
    "    )\n",
    "    lower_mid = min([mid for mid in hist_mids if lower <= mid]) # < or <= ?\n",
    "    upper_mid = max([mid for mid in hist_mids if mid < upper])\n",
    "    highlighted_bins = [k for k in hist.keys() if lower_mid <= .5*(k[0]+k[1]) <= upper_mid]\n",
    "    lower_highlighted = min([k[0] for k in highlighted_bins])\n",
    "    upper_highlighted = max([k[1] for k in highlighted_bins])\n",
    "    return lower_highlighted, upper_highlighted\n",
    "    "
   ],
   "outputs": [],
   "metadata": {}
  },
  {
   "cell_type": "code",
   "execution_count": 11,
   "source": [
    "rmspe(df_result.target, df_result[['pred_501-NN', 'pred_HAR_results']].min(axis=1))"
   ],
   "outputs": [
    {
     "output_type": "execute_result",
     "data": {
      "text/plain": [
       "0.22711883790515136"
      ]
     },
     "metadata": {},
     "execution_count": 11
    }
   ],
   "metadata": {}
  },
  {
   "cell_type": "code",
   "execution_count": 12,
   "source": [
    "rmspe(df_result.target, df_result[['pred_501-NN', 'pred_HAR_results']].max(axis=1))"
   ],
   "outputs": [
    {
     "output_type": "execute_result",
     "data": {
      "text/plain": [
       "0.2227746064897726"
      ]
     },
     "metadata": {},
     "execution_count": 12
    }
   ],
   "metadata": {}
  },
  {
   "cell_type": "code",
   "execution_count": 7,
   "source": [
    "df_rmspe = pd.DataFrame(columns=list_result_names)\n",
    "for col in list_result_names:\n",
    "    df_rmspe[col] = df_result.groupby('stock_id').apply(lambda x: rmspe(x['target'], x[f'pred_{col}']))"
   ],
   "outputs": [],
   "metadata": {}
  },
  {
   "cell_type": "code",
   "execution_count": 8,
   "source": [
    "df_rmspe = pd.DataFrame(columns=list_result_names)\n",
    "for col in list_result_names:\n",
    "    df_rmspe[col] = df_result.groupby('time_id').apply(lambda x: rmspe(x['target'], x[f'pred_{col}']))"
   ],
   "outputs": [],
   "metadata": {}
  },
  {
   "cell_type": "code",
   "execution_count": 13,
   "source": [
    "df_result.loc[df_result.stock_id==31].sort_values('target').head(10)"
   ],
   "outputs": [
    {
     "output_type": "execute_result",
     "data": {
      "text/html": [
       "<div>\n",
       "<style scoped>\n",
       "    .dataframe tbody tr th:only-of-type {\n",
       "        vertical-align: middle;\n",
       "    }\n",
       "\n",
       "    .dataframe tbody tr th {\n",
       "        vertical-align: top;\n",
       "    }\n",
       "\n",
       "    .dataframe thead th {\n",
       "        text-align: right;\n",
       "    }\n",
       "</style>\n",
       "<table border=\"1\" class=\"dataframe\">\n",
       "  <thead>\n",
       "    <tr style=\"text-align: right;\">\n",
       "      <th></th>\n",
       "      <th>stock_id</th>\n",
       "      <th>time_id</th>\n",
       "      <th>target</th>\n",
       "      <th>pred_501-NN</th>\n",
       "      <th>pred_601-lgb</th>\n",
       "      <th>pred_601-NN</th>\n",
       "      <th>pred_521-NN</th>\n",
       "      <th>pred_501z-NN</th>\n",
       "      <th>pred_HAR_results</th>\n",
       "    </tr>\n",
       "  </thead>\n",
       "  <tbody>\n",
       "    <tr>\n",
       "      <th>108254</th>\n",
       "      <td>31</td>\n",
       "      <td>8534</td>\n",
       "      <td>0.000105</td>\n",
       "      <td>0.000581</td>\n",
       "      <td>0.001029</td>\n",
       "      <td>0.000703</td>\n",
       "      <td>0.000336</td>\n",
       "      <td>0.000678</td>\n",
       "      <td>0.001796</td>\n",
       "    </tr>\n",
       "    <tr>\n",
       "      <th>107548</th>\n",
       "      <td>31</td>\n",
       "      <td>2479</td>\n",
       "      <td>0.000109</td>\n",
       "      <td>0.000338</td>\n",
       "      <td>0.001133</td>\n",
       "      <td>0.000699</td>\n",
       "      <td>0.000187</td>\n",
       "      <td>0.000262</td>\n",
       "      <td>0.000677</td>\n",
       "    </tr>\n",
       "    <tr>\n",
       "      <th>107832</th>\n",
       "      <td>31</td>\n",
       "      <td>4867</td>\n",
       "      <td>0.000113</td>\n",
       "      <td>0.000292</td>\n",
       "      <td>0.000423</td>\n",
       "      <td>0.000238</td>\n",
       "      <td>0.000260</td>\n",
       "      <td>0.000170</td>\n",
       "      <td>0.000002</td>\n",
       "    </tr>\n",
       "    <tr>\n",
       "      <th>110479</th>\n",
       "      <td>31</td>\n",
       "      <td>27174</td>\n",
       "      <td>0.000123</td>\n",
       "      <td>0.000963</td>\n",
       "      <td>0.000982</td>\n",
       "      <td>0.000987</td>\n",
       "      <td>0.000561</td>\n",
       "      <td>0.000905</td>\n",
       "      <td>0.000908</td>\n",
       "    </tr>\n",
       "    <tr>\n",
       "      <th>107743</th>\n",
       "      <td>31</td>\n",
       "      <td>4142</td>\n",
       "      <td>0.000137</td>\n",
       "      <td>0.000394</td>\n",
       "      <td>0.000572</td>\n",
       "      <td>0.000443</td>\n",
       "      <td>0.000174</td>\n",
       "      <td>0.000266</td>\n",
       "      <td>0.000713</td>\n",
       "    </tr>\n",
       "    <tr>\n",
       "      <th>110278</th>\n",
       "      <td>31</td>\n",
       "      <td>25504</td>\n",
       "      <td>0.000139</td>\n",
       "      <td>0.002190</td>\n",
       "      <td>0.002525</td>\n",
       "      <td>0.002073</td>\n",
       "      <td>0.001575</td>\n",
       "      <td>0.002346</td>\n",
       "      <td>0.002258</td>\n",
       "    </tr>\n",
       "    <tr>\n",
       "      <th>110453</th>\n",
       "      <td>31</td>\n",
       "      <td>26997</td>\n",
       "      <td>0.000145</td>\n",
       "      <td>0.000347</td>\n",
       "      <td>0.001089</td>\n",
       "      <td>0.000211</td>\n",
       "      <td>0.000163</td>\n",
       "      <td>0.000198</td>\n",
       "      <td>0.000325</td>\n",
       "    </tr>\n",
       "    <tr>\n",
       "      <th>109234</th>\n",
       "      <td>31</td>\n",
       "      <td>16601</td>\n",
       "      <td>0.000155</td>\n",
       "      <td>0.000419</td>\n",
       "      <td>0.000847</td>\n",
       "      <td>0.000425</td>\n",
       "      <td>0.000279</td>\n",
       "      <td>0.000400</td>\n",
       "      <td>0.000628</td>\n",
       "    </tr>\n",
       "    <tr>\n",
       "      <th>107539</th>\n",
       "      <td>31</td>\n",
       "      <td>2436</td>\n",
       "      <td>0.000164</td>\n",
       "      <td>0.000364</td>\n",
       "      <td>0.000568</td>\n",
       "      <td>0.000539</td>\n",
       "      <td>0.000244</td>\n",
       "      <td>0.000360</td>\n",
       "      <td>0.000409</td>\n",
       "    </tr>\n",
       "    <tr>\n",
       "      <th>108638</th>\n",
       "      <td>31</td>\n",
       "      <td>11844</td>\n",
       "      <td>0.000175</td>\n",
       "      <td>0.000685</td>\n",
       "      <td>0.001109</td>\n",
       "      <td>0.000486</td>\n",
       "      <td>0.000301</td>\n",
       "      <td>0.000585</td>\n",
       "      <td>0.000835</td>\n",
       "    </tr>\n",
       "  </tbody>\n",
       "</table>\n",
       "</div>"
      ],
      "text/plain": [
       "        stock_id  time_id    target  pred_501-NN  pred_601-lgb  pred_601-NN  \\\n",
       "108254        31     8534  0.000105     0.000581      0.001029     0.000703   \n",
       "107548        31     2479  0.000109     0.000338      0.001133     0.000699   \n",
       "107832        31     4867  0.000113     0.000292      0.000423     0.000238   \n",
       "110479        31    27174  0.000123     0.000963      0.000982     0.000987   \n",
       "107743        31     4142  0.000137     0.000394      0.000572     0.000443   \n",
       "110278        31    25504  0.000139     0.002190      0.002525     0.002073   \n",
       "110453        31    26997  0.000145     0.000347      0.001089     0.000211   \n",
       "109234        31    16601  0.000155     0.000419      0.000847     0.000425   \n",
       "107539        31     2436  0.000164     0.000364      0.000568     0.000539   \n",
       "108638        31    11844  0.000175     0.000685      0.001109     0.000486   \n",
       "\n",
       "        pred_521-NN  pred_501z-NN  pred_HAR_results  \n",
       "108254     0.000336      0.000678          0.001796  \n",
       "107548     0.000187      0.000262          0.000677  \n",
       "107832     0.000260      0.000170          0.000002  \n",
       "110479     0.000561      0.000905          0.000908  \n",
       "107743     0.000174      0.000266          0.000713  \n",
       "110278     0.001575      0.002346          0.002258  \n",
       "110453     0.000163      0.000198          0.000325  \n",
       "109234     0.000279      0.000400          0.000628  \n",
       "107539     0.000244      0.000360          0.000409  \n",
       "108638     0.000301      0.000585          0.000835  "
      ]
     },
     "metadata": {},
     "execution_count": 13
    }
   ],
   "metadata": {}
  },
  {
   "cell_type": "code",
   "execution_count": 16,
   "source": [
    "a = (df_result['pred_501-NN'] - df_result['target']).abs()\n",
    "b = (df_result['pred_HAR_results'] - df_result['target']).abs()\n",
    "df_result['pred_'] = df_result['pred_501-NN'] *(a<b) + df_result['pred_HAR_results'] *(a>=b)"
   ],
   "outputs": [],
   "metadata": {}
  },
  {
   "cell_type": "code",
   "execution_count": 17,
   "source": [
    "rmspe(df_result['target'], df_result['pred_'])"
   ],
   "outputs": [
    {
     "output_type": "execute_result",
     "data": {
      "text/plain": [
       "0.1868883709395331"
      ]
     },
     "metadata": {},
     "execution_count": 17
    }
   ],
   "metadata": {}
  },
  {
   "cell_type": "code",
   "execution_count": 22,
   "source": [
    "df_result['label'] = a<b"
   ],
   "outputs": [],
   "metadata": {}
  },
  {
   "cell_type": "code",
   "execution_count": 24,
   "source": [
    "df_result[['stock_id', 'time_id', 'label']].to_csv('label_.csv', index=False)"
   ],
   "outputs": [],
   "metadata": {}
  },
  {
   "cell_type": "code",
   "execution_count": 20,
   "source": [
    "sum(a<b)"
   ],
   "outputs": [
    {
     "output_type": "execute_result",
     "data": {
      "text/plain": [
       "246960"
      ]
     },
     "metadata": {},
     "execution_count": 20
    }
   ],
   "metadata": {}
  },
  {
   "cell_type": "code",
   "execution_count": 21,
   "source": [
    "sum(a>b)"
   ],
   "outputs": [
    {
     "output_type": "execute_result",
     "data": {
      "text/plain": [
       "181972"
      ]
     },
     "metadata": {},
     "execution_count": 21
    }
   ],
   "metadata": {}
  },
  {
   "cell_type": "code",
   "execution_count": 29,
   "source": [
    "import matplotlib.pyplot as plt\n",
    "ax = df_rmspe.plot(kind='barh', ylabel='stock_id', title='results', figsize=(10, 120))\n",
    "ax.set(xlabel='rmspe')"
   ],
   "outputs": [
    {
     "output_type": "execute_result",
     "data": {
      "text/plain": [
       "[Text(0.5, 0, 'rmspe')]"
      ]
     },
     "metadata": {},
     "execution_count": 29
    },
    {
     "output_type": "display_data",
     "data": {
      "image/png": "[encoded data removed]",
      "text/plain": [
       "<Figure size 720x8640 with 1 Axes>"
      ]
     },
     "metadata": {
      "needs_background": "light"
     }
    }
   ],
   "metadata": {}
  },
  {
   "cell_type": "code",
   "execution_count": 35,
   "source": [
    "# blend with weights\n",
    "# blend_result_names = ['501-lgb', '501-NN', '601-lgb', '601-NN']\n",
    "# blend_result_names = ['501-NN', '601-lgb', '601-NN', '521-NN']\n",
    "blend_result_names = list_result_names\n",
    "pred_cols = [f'pred_{result_name}' for result_name in blend_result_names]\n",
    "opt = OptimizeRMSPE()\n",
    "df_result['bias'] = 1\n",
    "opt.fit(df_result[pred_cols].values, df_result['target'].values)\n",
    "print(opt.coef_)\n",
    "\n",
    "df_result['pred_opt'] = np.sum(opt.coef_ * df_result[pred_cols], axis=1)\n",
    "rmspe(df_result.target, df_result.pred_opt)"
   ],
   "outputs": [
    {
     "output_type": "stream",
     "name": "stdout",
     "text": [
      "Optimization terminated successfully.\n",
      "         Current function value: 0.207679\n",
      "         Iterations: 397\n",
      "         Function evaluations: 625\n",
      "[ 0.18667159  0.19851909  0.20975358  0.23525411  0.18872339 -0.02344906]\n"
     ]
    },
    {
     "output_type": "execute_result",
     "data": {
      "text/plain": [
       "0.20767897306316235"
      ]
     },
     "metadata": {},
     "execution_count": 35
    }
   ],
   "metadata": {}
  },
  {
   "cell_type": "code",
   "execution_count": 36,
   "source": [
    "# harmonic mean\n",
    "rmspe(df_result.target, sp.stats.hmean(df_result[pred_cols].values, axis=1))"
   ],
   "outputs": [
    {
     "output_type": "execute_result",
     "data": {
      "text/plain": [
       "0.20883624182755509"
      ]
     },
     "metadata": {},
     "execution_count": 36
    }
   ],
   "metadata": {}
  },
  {
   "cell_type": "code",
   "execution_count": 37,
   "source": [
    "# decision tree\n",
    "from sklearn.tree import DecisionTreeRegressor\n",
    "\n",
    "blend_model = DecisionTreeRegressor(max_depth=18)\n",
    "blend_model.fit(df_result[pred_cols], df_result.target)\n",
    "rmspe(df_result.target, blend_model.predict(df_result[pred_cols]))"
   ],
   "outputs": [
    {
     "output_type": "execute_result",
     "data": {
      "text/plain": [
       "0.19723591270872334"
      ]
     },
     "metadata": {},
     "execution_count": 37
    }
   ],
   "metadata": {}
  },
  {
   "cell_type": "code",
   "execution_count": 40,
   "source": [
    "save_pickle(blend_model, 'blend_model.pkl')"
   ],
   "outputs": [
    {
     "output_type": "stream",
     "name": "stdout",
     "text": [
      "Done!\n"
     ]
    }
   ],
   "metadata": {}
  },
  {
   "cell_type": "code",
   "execution_count": null,
   "source": [],
   "outputs": [],
   "metadata": {}
  }
 ]
}