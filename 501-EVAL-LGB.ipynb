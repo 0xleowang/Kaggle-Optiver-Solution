{
 "metadata": {
  "language_info": {
   "codemirror_mode": {
    "name": "ipython",
    "version": 3
   },
   "file_extension": ".py",
   "mimetype": "text/x-python",
   "name": "python",
   "nbconvert_exporter": "python",
   "pygments_lexer": "ipython3",
   "version": "3.7.10"
  },
  "orig_nbformat": 4,
  "kernelspec": {
   "name": "python3",
   "display_name": "Python 3.7.10 64-bit ('gpu': conda)"
  },
  "interpreter": {
   "hash": "92e15e089105a7a863a6daf4d8bb8fefc62afebb9ac515f25b6afacc0274c8c5"
  }
 },
 "nbformat": 4,
 "nbformat_minor": 2,
 "cells": [
  {
   "cell_type": "code",
   "execution_count": 12,
   "source": [
    "%reload_ext autoreload\n",
    "%autoreload 2\n",
    "\n",
    "import glob\n",
    "import os, gc\n",
    "import numpy as numpy\n",
    "import pandas as pd\n",
    "import scipy as sp\n",
    "import datatable as dt\n",
    "from collections import defaultdict\n",
    "from tqdm.notebook import tqdm\n",
    "from sklearn.utils import shuffle\n",
    "from sklearn.metrics import r2_score\n",
    "from numba import njit\n",
    "from utils import *\n",
    "\n",
    "from IPython.display import clear_output\n",
    "\n",
    "import lightgbm as lgb\n",
    "\n",
    "# TF\n",
    "import tensorflow as tf\n",
    "import tensorflow.keras.backend as K\n",
    "from tensorflow.keras.callbacks import Callback, ReduceLROnPlateau, ModelCheckpoint, EarlyStopping"
   ],
   "outputs": [],
   "metadata": {}
  },
  {
   "cell_type": "code",
   "execution_count": 13,
   "source": [
    "N_FOLD = 5\n",
    "N_MINS = 5\n",
    "MIN_SIZE = 600 // N_MINS\n",
    "\n",
    "SOL_NAME = '501-lgb'\n",
    "DATA_NAME = '501'\n",
    "mkdir(f'./models/{SOL_NAME}/')"
   ],
   "outputs": [],
   "metadata": {}
  },
  {
   "cell_type": "code",
   "execution_count": 14,
   "source": [
    "# get ids\n",
    "list_stock_id = get_stock_id()\n",
    "list_time_id = get_time_id()"
   ],
   "outputs": [],
   "metadata": {}
  },
  {
   "cell_type": "markdown",
   "source": [
    "# Functions"
   ],
   "metadata": {}
  },
  {
   "cell_type": "code",
   "execution_count": 15,
   "source": [
    "def feval_rmspe(y_pred, lgb_train):\n",
    "    y_true = lgb_train.get_label()\n",
    "    return 'RMSPE', rmspe(y_true, y_pred), False"
   ],
   "outputs": [],
   "metadata": {}
  },
  {
   "cell_type": "markdown",
   "source": [
    "# Loading data"
   ],
   "metadata": {}
  },
  {
   "cell_type": "code",
   "execution_count": 16,
   "source": [
    "# train\n",
    "df_train = dt.fread(f'./dataset/train_{DATA_NAME}_LGB.csv').to_pandas()\n",
    "fea_cols = [f for f in df_train.columns if f.startswith('B_') or f.startswith('T_') or f.startswith('Z_')]\n",
    "# result\n",
    "df_result = dt.fread('./dataset/train.csv').to_pandas()\n",
    "df_result = gen_row_id(df_result)"
   ],
   "outputs": [],
   "metadata": {}
  },
  {
   "cell_type": "code",
   "execution_count": 17,
   "source": [
    "fea_cols_TA = [f for f in fea_cols if 'min_' not in f]\n",
    "df_time_mean = df_train.groupby('time_id')[fea_cols_TA].mean()\n",
    "df_time_mean.columns = [f'{c}_TA_mean' for c in df_time_mean.columns]\n",
    "df_time_mean = df_time_mean.reset_index()\n",
    "df_train = df_train.merge(df_time_mean, on='time_id', how='left')\n",
    "\n",
    "del df_time_mean\n",
    "gc.collect()"
   ],
   "outputs": [
    {
     "output_type": "execute_result",
     "data": {
      "text/plain": [
       "57"
      ]
     },
     "metadata": {},
     "execution_count": 17
    }
   ],
   "metadata": {}
  },
  {
   "cell_type": "code",
   "execution_count": 18,
   "source": [
    "fea_cols = ['stock_id'] + [f for f in df_train if f not in ['time_id', 'target', 'pred_NN', 'stock_id', 'row_id']]"
   ],
   "outputs": [],
   "metadata": {}
  },
  {
   "cell_type": "code",
   "execution_count": 19,
   "source": [
    "df_train = gen_row_id(df_train)\n",
    "df_train = add_time_fold(df_train, N_FOLD)"
   ],
   "outputs": [],
   "metadata": {}
  },
  {
   "cell_type": "markdown",
   "source": [
    "# Evaluation"
   ],
   "metadata": {}
  },
  {
   "cell_type": "code",
   "execution_count": 20,
   "source": [
    "def add_time_stats(df_train):\n",
    "    time_cols = [f for f in df_train.columns if f.endswith('_time') and 'RV' in f]\n",
    "    df_gp_stock = df_train.groupby('stock_id')\n",
    "    #\n",
    "    df_stats = df_gp_stock[time_cols].mean().reset_index()\n",
    "    df_stats.columns = ['stock_id'] + [f'{f}_mean' for f in time_cols]\n",
    "    df_train = df_train.merge(df_stats, on=['stock_id'], how='left')\n",
    "    #\n",
    "    df_stats = df_gp_stock[time_cols].std().reset_index()\n",
    "    df_stats.columns = ['stock_id'] + [f'{f}_std' for f in time_cols]\n",
    "    df_train = df_train.merge(df_stats, on=['stock_id'], how='left')\n",
    "    #\n",
    "    # df_stats = df_gp_stock[time_cols].skew().reset_index()\n",
    "    # df_stats.columns = ['stock_id'] + [f'{f}_skew' for f in time_cols]\n",
    "    # df_train = df_train.merge(df_stats, on=['stock_id'], how='left')\n",
    "    #\n",
    "    df_stats = df_gp_stock[time_cols].min().reset_index()\n",
    "    df_stats.columns = ['stock_id'] + [f'{f}_min' for f in time_cols]\n",
    "    df_train = df_train.merge(df_stats, on=['stock_id'], how='left')\n",
    "    #\n",
    "    df_stats = df_gp_stock[time_cols].max().reset_index()\n",
    "    df_stats.columns = ['stock_id'] + [f'{f}_max' for f in time_cols]\n",
    "    df_train = df_train.merge(df_stats, on=['stock_id'], how='left')\n",
    "    #\n",
    "    # df_stats = df_gp_stock[time_cols].quantile(0.25).reset_index()\n",
    "    # df_stats.columns = ['stock_id'] + [f'{f}_q1' for f in time_cols]\n",
    "    # df_train = df_train.merge(df_stats, on=['stock_id'], how='left')\n",
    "    # #\n",
    "    # df_stats = df_gp_stock[time_cols].quantile(0.50).reset_index()\n",
    "    # df_stats.columns = ['stock_id'] + [f'{f}_q2' for f in time_cols]\n",
    "    # df_train = df_train.merge(df_stats, on=['stock_id'], how='left')\n",
    "    # #\n",
    "    # df_stats = df_gp_stock[time_cols].quantile(0.75).reset_index()\n",
    "    # df_stats.columns = ['stock_id'] + [f'{f}_q3' for f in time_cols]\n",
    "    # df_train = df_train.merge(df_stats, on=['stock_id'], how='left')\n",
    "    return df_train"
   ],
   "outputs": [],
   "metadata": {}
  },
  {
   "cell_type": "code",
   "execution_count": 21,
   "source": [
    "seed0=2021\n",
    "params = {\n",
    "    'objective': 'rmse',\n",
    "    'boosting_type': 'gbdt',\n",
    "    'max_depth': -1,\n",
    "    'max_bin':100,\n",
    "    'min_data_in_leaf':500,\n",
    "    'learning_rate': 0.05,\n",
    "    'subsample': 0.72,\n",
    "    'subsample_freq': 4,\n",
    "    'feature_fraction': 0.5,\n",
    "    'lambda_l1': 0.5,\n",
    "    'lambda_l2': 1.0,\n",
    "    'categorical_column':[0],\n",
    "    'seed':seed0,\n",
    "    'feature_fraction_seed': seed0,\n",
    "    'bagging_seed': seed0,\n",
    "    'drop_seed': seed0,\n",
    "    'data_random_seed': seed0,\n",
    "    'n_jobs':-1,\n",
    "    'verbose': -1}\n",
    "list_rmspe = [1 for _ in range(N_FOLD)]"
   ],
   "outputs": [],
   "metadata": {}
  },
  {
   "cell_type": "code",
   "execution_count": 23,
   "source": [
    "n_trials = 1\n",
    "for _ in range(n_trials):\n",
    "    for i_fold in range(N_FOLD):\n",
    "        gc.collect()\n",
    "        df_tr = df_train.loc[df_train.fold!=i_fold]\n",
    "        df_te = df_train.loc[df_train.fold==i_fold]\n",
    "        # df_tr = add_time_stats(df_tr)\n",
    "        # df_te = add_time_stats(df_te)\n",
    "\n",
    "        fea_cols = ['stock_id'] + [f for f in df_tr.columns if f.startswith('B_') or f.startswith('T_') or f.startswith('Z_')]\n",
    "\n",
    "        X_train = df_tr[fea_cols].values\n",
    "        y_train = df_tr['target'].values\n",
    "        X_test = df_te[fea_cols].values\n",
    "        y_test = df_te['target'].values\n",
    "        idx_test = df_train.loc[df_train.fold==i_fold].index\n",
    "        print(f'Fold {i_fold+1}/{N_FOLD}', X_train.shape, X_test.shape)\n",
    "\n",
    "\n",
    "        train_dataset = lgb.Dataset(X_train, y_train, weight=1/np.square(y_train))\n",
    "        test_dataset = lgb.Dataset(X_test, y_test, weight=1/np.square(y_test))\n",
    "        model = lgb.train(params = params,\n",
    "                          num_boost_round=1000,\n",
    "                          train_set = train_dataset, \n",
    "                          valid_sets = [train_dataset, test_dataset], \n",
    "                          verbose_eval = 250,\n",
    "                          early_stopping_rounds=250,\n",
    "                          feval = feval_rmspe)\n",
    "\n",
    "        y_pred = model.predict(X_test)\n",
    "        curr_rmspe = rmspe(y_test, y_pred)\n",
    "        if curr_rmspe < list_rmspe[i_fold]:\n",
    "            ckp_path = f'./models/{SOL_NAME}/lgb_{i_fold}.pkl'\n",
    "            save_pickle(model, ckp_path)\n",
    "            list_rmspe[i_fold] = curr_rmspe\n",
    "            # generate and save preds\n",
    "            df_result.loc[idx_test, 'pred'] = y_pred\n",
    "        # clear_output()\n",
    "        print(list_rmspe)\n",
    "        calc_metric(df_result.fillna(0))\n",
    "        # 0.2169\n",
    "    # break"
   ],
   "outputs": [
    {
     "output_type": "stream",
     "name": "stdout",
     "text": [
      "Fold 1/5 (343145, 483) (85787, 483)\n",
      "Training until validation scores don't improve for 250 rounds\n",
      "[250]\ttraining's rmse: 0.00042914\ttraining's RMSPE: 0.198334\tvalid_1's rmse: 0.000461219\tvalid_1's RMSPE: 0.214646\n",
      "[500]\ttraining's rmse: 0.000405874\ttraining's RMSPE: 0.187581\tvalid_1's rmse: 0.000460849\tvalid_1's RMSPE: 0.214474\n",
      "Early stopping, best iteration is:\n",
      "[343]\ttraining's rmse: 0.000418189\ttraining's RMSPE: 0.193273\tvalid_1's rmse: 0.00046044\tvalid_1's RMSPE: 0.214284\n",
      "Done!\n",
      "[0.21428398420781644, 0.217304076091105, 1, 1, 1]\n",
      "   R2: -0.7658\n",
      "RMSPE: 0.7865\n",
      "Fold 2/5 (343145, 483) (85787, 483)\n",
      "Training until validation scores don't improve for 250 rounds\n",
      "[250]\ttraining's rmse: 0.000427165\ttraining's RMSPE: 0.197148\tvalid_1's rmse: 0.000466604\tvalid_1's RMSPE: 0.218336\n",
      "[500]\ttraining's rmse: 0.000404432\ttraining's RMSPE: 0.186656\tvalid_1's rmse: 0.000463736\tvalid_1's RMSPE: 0.216994\n",
      "[750]\ttraining's rmse: 0.000390877\ttraining's RMSPE: 0.1804\tvalid_1's rmse: 0.000463629\tvalid_1's RMSPE: 0.216944\n",
      "[1000]\ttraining's rmse: 0.000380793\ttraining's RMSPE: 0.175746\tvalid_1's rmse: 0.000463494\tvalid_1's RMSPE: 0.216881\n",
      "Did not meet early stopping. Best iteration is:\n",
      "[1000]\ttraining's rmse: 0.000380793\ttraining's RMSPE: 0.175746\tvalid_1's rmse: 0.000463494\tvalid_1's RMSPE: 0.216881\n",
      "Done!\n",
      "[0.21428398420781644, 0.2168806357256496, 1, 1, 1]\n",
      "   R2: -0.7648\n",
      "RMSPE: 0.7865\n",
      "Fold 3/5 (343147, 483) (85785, 483)\n",
      "Training until validation scores don't improve for 250 rounds\n",
      "[250]\ttraining's rmse: 0.000425579\ttraining's RMSPE: 0.197938\tvalid_1's rmse: 0.000472003\tvalid_1's RMSPE: 0.214069\n",
      "[500]\ttraining's rmse: 0.000402512\ttraining's RMSPE: 0.18721\tvalid_1's rmse: 0.000469354\tvalid_1's RMSPE: 0.212867\n",
      "[750]\ttraining's rmse: 0.000388446\ttraining's RMSPE: 0.180668\tvalid_1's rmse: 0.000468888\tvalid_1's RMSPE: 0.212656\n",
      "[1000]\ttraining's rmse: 0.000378498\ttraining's RMSPE: 0.176041\tvalid_1's rmse: 0.000468986\tvalid_1's RMSPE: 0.2127\n",
      "Did not meet early stopping. Best iteration is:\n",
      "[1000]\ttraining's rmse: 0.000378498\ttraining's RMSPE: 0.176041\tvalid_1's rmse: 0.000468986\tvalid_1's RMSPE: 0.2127\n",
      "Done!\n",
      "[0.21428398420781644, 0.2168806357256496, 0.21270048560120272, 1, 1]\n",
      "   R2: -0.2204\n",
      "RMSPE: 0.6539\n",
      "Fold 4/5 (343150, 483) (85782, 483)\n",
      "Training until validation scores don't improve for 250 rounds\n",
      "[250]\ttraining's rmse: 0.000427742\ttraining's RMSPE: 0.1985\tvalid_1's rmse: 0.000470482\tvalid_1's RMSPE: 0.215373\n",
      "[500]\ttraining's rmse: 0.000405166\ttraining's RMSPE: 0.188023\tvalid_1's rmse: 0.00046781\tvalid_1's RMSPE: 0.21415\n",
      "[750]\ttraining's rmse: 0.000391011\ttraining's RMSPE: 0.181454\tvalid_1's rmse: 0.000467582\tvalid_1's RMSPE: 0.214046\n",
      "Early stopping, best iteration is:\n",
      "[664]\ttraining's rmse: 0.000394986\ttraining's RMSPE: 0.183299\tvalid_1's rmse: 0.00046743\tvalid_1's RMSPE: 0.213976\n",
      "Done!\n",
      "[0.21428398420781644, 0.2168806357256496, 0.21270048560120272, 0.2139758133023071, 1]\n",
      "   R2: 0.3053\n",
      "RMSPE: 0.4866\n",
      "Fold 5/5 (343141, 483) (85791, 483)\n",
      "Training until validation scores don't improve for 250 rounds\n",
      "[250]\ttraining's rmse: 0.000427832\ttraining's RMSPE: 0.197312\tvalid_1's rmse: 0.000482679\tvalid_1's RMSPE: 0.226494\n",
      "[500]\ttraining's rmse: 0.000405083\ttraining's RMSPE: 0.186821\tvalid_1's rmse: 0.000480856\tvalid_1's RMSPE: 0.225638\n",
      "Early stopping, best iteration is:\n",
      "[402]\ttraining's rmse: 0.000412091\ttraining's RMSPE: 0.190052\tvalid_1's rmse: 0.000480381\tvalid_1's RMSPE: 0.225415\n",
      "Done!\n",
      "[0.21428398420781644, 0.2168806357256496, 0.21270048560120272, 0.2139758133023071, 0.2254152575503233]\n",
      "   R2: 0.8234\n",
      "RMSPE: 0.2167\n"
     ]
    }
   ],
   "metadata": {}
  },
  {
   "cell_type": "code",
   "execution_count": 24,
   "source": [
    "df_result.to_csv(f'./results/{SOL_NAME}.csv', index=False)"
   ],
   "outputs": [],
   "metadata": {}
  },
  {
   "cell_type": "code",
   "execution_count": null,
   "source": [],
   "outputs": [],
   "metadata": {}
  }
 ]
}