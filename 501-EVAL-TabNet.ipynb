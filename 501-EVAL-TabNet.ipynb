{
 "metadata": {
  "language_info": {
   "codemirror_mode": {
    "name": "ipython",
    "version": 3
   },
   "file_extension": ".py",
   "mimetype": "text/x-python",
   "name": "python",
   "nbconvert_exporter": "python",
   "pygments_lexer": "ipython3",
   "version": "3.7.10"
  },
  "orig_nbformat": 4,
  "kernelspec": {
   "name": "python3",
   "display_name": "Python 3.7.10 64-bit ('gpu': conda)"
  },
  "interpreter": {
   "hash": "92e15e089105a7a863a6daf4d8bb8fefc62afebb9ac515f25b6afacc0274c8c5"
  }
 },
 "nbformat": 4,
 "nbformat_minor": 2,
 "cells": [
  {
   "cell_type": "code",
   "execution_count": 37,
   "source": [
    "%reload_ext autoreload\n",
    "%autoreload 2\n",
    "\n",
    "import glob\n",
    "import os, gc\n",
    "import numpy as numpy\n",
    "import pandas as pd\n",
    "import scipy as sp\n",
    "import datatable as dt\n",
    "from collections import defaultdict\n",
    "from tqdm.notebook import tqdm\n",
    "from sklearn.utils import shuffle\n",
    "from sklearn.metrics import r2_score\n",
    "from numba import njit\n",
    "from utils import *\n",
    "\n",
    "from IPython.display import clear_output\n",
    "\n",
    "from pytorch_tabnet.metrics import Metric\n",
    "from pytorch_tabnet.tab_model import TabNetRegressor\n",
    "\n",
    "import torch\n",
    "from torch.optim import Adam, SGD\n",
    "from torch.optim.lr_scheduler import ReduceLROnPlateau, CosineAnnealingWarmRestarts"
   ],
   "outputs": [],
   "metadata": {}
  },
  {
   "cell_type": "code",
   "execution_count": 38,
   "source": [
    "N_FOLD = 5\n",
    "N_MINS = 5\n",
    "MIN_SIZE = 600 // N_MINS\n",
    "\n",
    "SOL_NAME = '501-TabNet'\n",
    "DATA_NAME = '501'\n",
    "mkdir(f'./models/{SOL_NAME}/')"
   ],
   "outputs": [],
   "metadata": {}
  },
  {
   "cell_type": "code",
   "execution_count": 39,
   "source": [
    "# CONSTANT\n",
    "MEAN = -5.762330803300896\n",
    "STD = 0.6339307835941186\n",
    "EPS = 1e-9"
   ],
   "outputs": [],
   "metadata": {}
  },
  {
   "cell_type": "code",
   "execution_count": 40,
   "source": [
    "# get ids\n",
    "list_stock_id = get_stock_id()\n",
    "list_time_id = get_time_id()"
   ],
   "outputs": [],
   "metadata": {}
  },
  {
   "cell_type": "markdown",
   "source": [
    "# Functions"
   ],
   "metadata": {}
  },
  {
   "cell_type": "code",
   "execution_count": 41,
   "source": [
    "def transform_target(target):\n",
    "    return (np.log(target + EPS) - MEAN) / STD\n",
    "\n",
    "def inverse_target(target):\n",
    "    return np.exp(MEAN + STD * target) - EPS\n",
    "\n",
    "def np_rmspe(y_true, y_pred):\n",
    "    y_true = inverse_target(y_true)\n",
    "    y_pred = inverse_target(y_pred)\n",
    "    return np.sqrt(np.mean(np.square((y_true - y_pred) / y_true)))\n",
    "\n",
    "class RMSPE(Metric):\n",
    "    def __init__(self):\n",
    "        self._name = \"rmspe\"\n",
    "        self._maximize = False\n",
    "\n",
    "    def __call__(self, y_true, y_pred):\n",
    "        y_true = inverse_target(y_true)\n",
    "        y_pred = inverse_target(y_pred)\n",
    "        return np.sqrt(np.mean(np.square((y_true - y_pred) / y_true)))\n",
    "\n",
    "def RMSPELoss(y_pred, y_true):\n",
    "    y_true = torch.exp(MEAN + STD * y_true) - EPS\n",
    "    y_pred = torch.exp(MEAN + STD * y_pred) - EPS\n",
    "    return torch.sqrt(torch.mean( ((y_true - y_pred) / y_true) ** 2 )).clone()"
   ],
   "outputs": [],
   "metadata": {}
  },
  {
   "cell_type": "markdown",
   "source": [
    "# Loading data"
   ],
   "metadata": {}
  },
  {
   "cell_type": "code",
   "execution_count": 42,
   "source": [
    "# train\n",
    "df_train = dt.fread(f'./dataset/train_{DATA_NAME}_NN.csv').to_pandas()\n",
    "fea_cols = [f for f in df_train.columns if f.startswith('B_') or f.startswith('T_') or f.startswith('Z_')]\n",
    "# result\n",
    "df_result = dt.fread('./dataset/train.csv').to_pandas()\n",
    "df_result = gen_row_id(df_result)"
   ],
   "outputs": [],
   "metadata": {}
  },
  {
   "cell_type": "code",
   "execution_count": 43,
   "source": [
    "fea_cols_TA = [f for f in fea_cols if 'min_' not in f]\n",
    "df_time_mean = df_train.groupby('time_id')[fea_cols_TA].mean()\n",
    "df_time_mean.columns = [f'{c}_TA_mean' for c in df_time_mean.columns]\n",
    "df_time_mean = df_time_mean.reset_index()\n",
    "df_train = df_train.merge(df_time_mean, on='time_id', how='left')\n",
    "\n",
    "del df_time_mean\n",
    "gc.collect()"
   ],
   "outputs": [
    {
     "output_type": "execute_result",
     "data": {
      "text/plain": [
       "34"
      ]
     },
     "metadata": {},
     "execution_count": 43
    }
   ],
   "metadata": {}
  },
  {
   "cell_type": "code",
   "execution_count": 44,
   "source": [
    "df_train['target'] = transform_target(df_train['target'])\n",
    "df_train = gen_row_id(df_train)\n",
    "df_train = add_time_fold(df_train, N_FOLD)"
   ],
   "outputs": [],
   "metadata": {}
  },
  {
   "cell_type": "markdown",
   "source": [
    "# Evaluation"
   ],
   "metadata": {}
  },
  {
   "cell_type": "code",
   "execution_count": 45,
   "source": [
    "def add_time_stats(df_train):\n",
    "    time_cols = [f for f in df_train.columns if f.endswith('_time')]\n",
    "    df_gp_stock = df_train.groupby('stock_id')\n",
    "    #\n",
    "    df_stats = df_gp_stock[time_cols].mean().reset_index()\n",
    "    df_stats.columns = ['stock_id'] + [f'{f}_mean' for f in time_cols]\n",
    "    df_train = df_train.merge(df_stats, on=['stock_id'], how='left')\n",
    "    #\n",
    "    df_stats = df_gp_stock[time_cols].std().reset_index()\n",
    "    df_stats.columns = ['stock_id'] + [f'{f}_std' for f in time_cols]\n",
    "    df_train = df_train.merge(df_stats, on=['stock_id'], how='left')\n",
    "    #\n",
    "    df_stats = df_gp_stock[time_cols].skew().reset_index()\n",
    "    df_stats.columns = ['stock_id'] + [f'{f}_skew' for f in time_cols]\n",
    "    df_train = df_train.merge(df_stats, on=['stock_id'], how='left')\n",
    "    #\n",
    "    df_stats = df_gp_stock[time_cols].min().reset_index()\n",
    "    df_stats.columns = ['stock_id'] + [f'{f}_min' for f in time_cols]\n",
    "    df_train = df_train.merge(df_stats, on=['stock_id'], how='left')\n",
    "    #\n",
    "    df_stats = df_gp_stock[time_cols].max().reset_index()\n",
    "    df_stats.columns = ['stock_id'] + [f'{f}_max' for f in time_cols]\n",
    "    df_train = df_train.merge(df_stats, on=['stock_id'], how='left')\n",
    "    #\n",
    "    df_stats = df_gp_stock[time_cols].quantile(0.25).reset_index()\n",
    "    df_stats.columns = ['stock_id'] + [f'{f}_q1' for f in time_cols]\n",
    "    df_train = df_train.merge(df_stats, on=['stock_id'], how='left')\n",
    "    #\n",
    "    df_stats = df_gp_stock[time_cols].quantile(0.50).reset_index()\n",
    "    df_stats.columns = ['stock_id'] + [f'{f}_q2' for f in time_cols]\n",
    "    df_train = df_train.merge(df_stats, on=['stock_id'], how='left')\n",
    "    #\n",
    "    df_stats = df_gp_stock[time_cols].quantile(0.75).reset_index()\n",
    "    df_stats.columns = ['stock_id'] + [f'{f}_q3' for f in time_cols]\n",
    "    df_train = df_train.merge(df_stats, on=['stock_id'], how='left')\n",
    "    return df_train"
   ],
   "outputs": [],
   "metadata": {}
  },
  {
   "cell_type": "code",
   "execution_count": 46,
   "source": [
    "tabnet_params = dict(\n",
    "    # cat_idxs=cat_idxs,\n",
    "    # cat_dims=cat_dims,\n",
    "    # cat_emb_dim=1,\n",
    "    n_d = 16,\n",
    "    n_a = 16,\n",
    "    n_steps = 2,\n",
    "    gamma = 2,\n",
    "    n_independent = 2,\n",
    "    n_shared = 2,\n",
    "    lambda_sparse = 0,\n",
    "    optimizer_fn = Adam,\n",
    "    optimizer_params = dict(lr = (2e-2)),\n",
    "    mask_type = \"entmax\",\n",
    "    scheduler_params = dict(T_0=200, T_mult=1, eta_min=1e-4, last_epoch=-1, verbose=False),\n",
    "    scheduler_fn = CosineAnnealingWarmRestarts,\n",
    "    seed = 42,\n",
    "    verbose = 10\n",
    "    \n",
    ")\n",
    "epochs = 1000\n",
    "\n",
    "list_seeds = [0, 11, 42]"
   ],
   "outputs": [],
   "metadata": {}
  },
  {
   "cell_type": "code",
   "execution_count": 47,
   "source": [
    "list_rmspe = []\n",
    "for i_seed, seed in enumerate(list_seeds):\n",
    "    df_train = add_time_fold(df_train, N_FOLD, seed=seed)\n",
    "    list_rmspe += [[]]\n",
    "    for i_fold in range(N_FOLD):\n",
    "        gc.collect()\n",
    "        df_tr = df_train.loc[df_train.fold!=i_fold]\n",
    "        df_te = df_train.loc[df_train.fold==i_fold]\n",
    "        df_tr = add_time_stats(df_tr)\n",
    "        df_te = add_time_stats(df_te)\n",
    "\n",
    "        fea_cols = [f for f in df_tr if f.startswith('B_') or f.startswith('T_') or f.startswith('Z_')]\n",
    "\n",
    "        X_train = df_tr[fea_cols].values\n",
    "        y_train = df_tr[['target']].values\n",
    "        X_test = df_te[fea_cols].values\n",
    "        y_test = df_te[['target']].values\n",
    "        idx_test = df_train.loc[df_train.fold==i_fold].index\n",
    "        print(f'Fold {i_seed+1}/{len(list_seeds)} | {i_fold+1}/{N_FOLD}', X_train.shape, X_test.shape)\n",
    "\n",
    "\n",
    "        # Callbacks\n",
    "        ckp_path = f'./models/{SOL_NAME}/model_{i_seed}_{i_fold}.hdf5'\n",
    "\n",
    "        model = TabNetRegressor(**tabnet_params)\n",
    "        model.fit(X_train, y_train,\n",
    "            eval_set=[(X_test, y_test)],\n",
    "            max_epochs=10000,\n",
    "            patience=50,\n",
    "            batch_size=1024*20, \n",
    "            virtual_batch_size=128*20,\n",
    "            num_workers=8,\n",
    "            drop_last=False,\n",
    "            eval_metric=[RMSPE],\n",
    "            loss_fn=RMSPELoss\n",
    "        )\n",
    "\n",
    "        y_pred = model.predict(X_test)\n",
    "        curr_rmspe = np_rmspe(y_test, y_pred)\n",
    "        list_rmspe[-1] += [curr_rmspe]\n",
    "        model.save_model(ckp_path)\n",
    "        # generate and save preds\n",
    "        df_result.loc[idx_test, f'pred_{i_seed}'] = inverse_target(y_pred)\n",
    "        clear_output()\n",
    "        print(list_rmspe)"
   ],
   "outputs": [
    {
     "output_type": "stream",
     "name": "stdout",
     "text": [
      "[[0.20967895305918083, 0.21453693320751296, 0.2105106845424079, 0.21377162029138327, 0.21778677095166957], [0.2149518183474069, 0.2088391842593955, 0.2135007232754118, 0.21650661160860873, 0.21463535003551715], [0.2186916126101811, 0.2150200590025876, 0.21017094299859312, 0.21035264085230124, 0.21156802688104276]]\n"
     ]
    }
   ],
   "metadata": {}
  },
  {
   "cell_type": "code",
   "execution_count": 48,
   "source": [
    "df_result.to_csv(f'./results/{SOL_NAME}.csv', index=False)"
   ],
   "outputs": [],
   "metadata": {}
  },
  {
   "cell_type": "code",
   "execution_count": 49,
   "source": [
    "for i in range(len(list_seeds)):\n",
    "    print(i, rmspe(df_result['target'], df_result[f'pred_{i}']))\n",
    "print('All: ', rmspe(df_result['target'], df_result[[f'pred_{i}' for i in range(len(list_seeds))]].mean(axis=1)))"
   ],
   "outputs": [
    {
     "output_type": "stream",
     "name": "stdout",
     "text": [
      "0 0.21327709501054906\n",
      "1 0.21370263384308977\n",
      "2 0.21318568482289277\n",
      "All:  0.20914717221083357\n"
     ]
    }
   ],
   "metadata": {}
  },
  {
   "cell_type": "code",
   "execution_count": null,
   "source": [],
   "outputs": [],
   "metadata": {}
  }
 ]
}