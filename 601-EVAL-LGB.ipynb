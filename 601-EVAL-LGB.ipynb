{
 "metadata": {
  "language_info": {
   "codemirror_mode": {
    "name": "ipython",
    "version": 3
   },
   "file_extension": ".py",
   "mimetype": "text/x-python",
   "name": "python",
   "nbconvert_exporter": "python",
   "pygments_lexer": "ipython3",
   "version": "3.7.10"
  },
  "orig_nbformat": 4,
  "kernelspec": {
   "name": "python3",
   "display_name": "Python 3.7.10 64-bit ('gpu': conda)"
  },
  "interpreter": {
   "hash": "92e15e089105a7a863a6daf4d8bb8fefc62afebb9ac515f25b6afacc0274c8c5"
  }
 },
 "nbformat": 4,
 "nbformat_minor": 2,
 "cells": [
  {
   "cell_type": "code",
   "execution_count": 8,
   "source": [
    "%reload_ext autoreload\n",
    "%autoreload 2\n",
    "\n",
    "import glob\n",
    "import os, gc\n",
    "import numpy as numpy\n",
    "import pandas as pd\n",
    "import scipy as sp\n",
    "import datatable as dt\n",
    "from collections import defaultdict\n",
    "from tqdm.notebook import tqdm\n",
    "from sklearn.utils import shuffle\n",
    "from sklearn.metrics import r2_score\n",
    "from numba import njit\n",
    "from utils import *\n",
    "\n",
    "from IPython.display import clear_output\n",
    "\n",
    "import lightgbm as lgb\n",
    "\n",
    "# TF\n",
    "import tensorflow as tf\n",
    "import tensorflow.keras.backend as K\n",
    "from tensorflow.keras.callbacks import Callback, ReduceLROnPlateau, ModelCheckpoint, EarlyStopping"
   ],
   "outputs": [],
   "metadata": {}
  },
  {
   "cell_type": "code",
   "execution_count": 9,
   "source": [
    "N_FOLD = 5\n",
    "N_MINS = 5\n",
    "MIN_SIZE = 600 // N_MINS\n",
    "\n",
    "SOL_NAME = '601-lgb'\n",
    "DATA_NAME = '601'\n",
    "mkdir(f'./models/{SOL_NAME}/')"
   ],
   "outputs": [],
   "metadata": {}
  },
  {
   "cell_type": "code",
   "execution_count": 10,
   "source": [
    "# get ids\n",
    "list_stock_id = get_stock_id()\n",
    "list_time_id = get_time_id()"
   ],
   "outputs": [],
   "metadata": {}
  },
  {
   "cell_type": "markdown",
   "source": [
    "# Functions"
   ],
   "metadata": {}
  },
  {
   "cell_type": "code",
   "execution_count": 11,
   "source": [
    "def feval_rmspe(y_pred, lgb_train):\n",
    "    y_true = lgb_train.get_label()\n",
    "    return 'RMSPE', rmspe(y_true, y_pred), False"
   ],
   "outputs": [],
   "metadata": {}
  },
  {
   "cell_type": "markdown",
   "source": [
    "# Loading data"
   ],
   "metadata": {}
  },
  {
   "cell_type": "code",
   "execution_count": 12,
   "source": [
    "# train\n",
    "df_train = dt.fread(f'./dataset/public_train_{DATA_NAME}_LGB.csv').to_pandas()\n",
    "# result\n",
    "df_result = dt.fread('./dataset/train.csv').to_pandas()\n",
    "df_result = gen_row_id(df_result)"
   ],
   "outputs": [],
   "metadata": {}
  },
  {
   "cell_type": "code",
   "execution_count": 13,
   "source": [
    "fea_cols = ['stock_id'] + [f for f in df_train if f not in ['time_id', 'target', 'stock_id', 'row_id']]"
   ],
   "outputs": [],
   "metadata": {}
  },
  {
   "cell_type": "code",
   "execution_count": 14,
   "source": [
    "df_train = gen_row_id(df_train)\n",
    "df_train = add_time_fold(df_train, N_FOLD)"
   ],
   "outputs": [],
   "metadata": {}
  },
  {
   "cell_type": "markdown",
   "source": [
    "# Evaluation"
   ],
   "metadata": {}
  },
  {
   "cell_type": "code",
   "execution_count": 15,
   "source": [
    "seed0=2021\n",
    "params = {\n",
    "    'objective': 'rmse',\n",
    "    'boosting_type': 'gbdt',\n",
    "    'max_depth': -1,\n",
    "    'max_bin':100,\n",
    "    'min_data_in_leaf':500,\n",
    "    'learning_rate': 0.05,\n",
    "    'subsample': 0.72,\n",
    "    'subsample_freq': 4,\n",
    "    'feature_fraction': 0.5,\n",
    "    'lambda_l1': 0.5,\n",
    "    'lambda_l2': 1.0,\n",
    "    'categorical_column':[0],\n",
    "    'seed':seed0,\n",
    "    'feature_fraction_seed': seed0,\n",
    "    'bagging_seed': seed0,\n",
    "    'drop_seed': seed0,\n",
    "    'data_random_seed': seed0,\n",
    "    'n_jobs':-1,\n",
    "    'verbose': -1}\n",
    "list_rmspe = [1 for _ in range(N_FOLD)]"
   ],
   "outputs": [],
   "metadata": {}
  },
  {
   "cell_type": "code",
   "execution_count": 16,
   "source": [
    "n_trials = 1\n",
    "for _ in range(n_trials):\n",
    "    for i_fold in range(N_FOLD):\n",
    "        gc.collect()\n",
    "        df_tr = df_train.loc[df_train.fold!=i_fold]\n",
    "        df_te = df_train.loc[df_train.fold==i_fold]\n",
    "\n",
    "        X_train = df_tr[fea_cols].values\n",
    "        y_train = df_tr['target'].values\n",
    "        X_test = df_te[fea_cols].values\n",
    "        y_test = df_te['target'].values\n",
    "        idx_test = df_train.loc[df_train.fold==i_fold].index\n",
    "        print(f'Fold {i_fold+1}/{N_FOLD}', X_train.shape, X_test.shape)\n",
    "\n",
    "\n",
    "        train_dataset = lgb.Dataset(X_train, y_train, weight=1/np.square(y_train))\n",
    "        test_dataset = lgb.Dataset(X_test, y_test, weight=1/np.square(y_test))\n",
    "        model = lgb.train(params = params,\n",
    "                          num_boost_round=1000,\n",
    "                          train_set = train_dataset, \n",
    "                          valid_sets = [train_dataset, test_dataset], \n",
    "                          verbose_eval = 250,\n",
    "                          early_stopping_rounds=250,\n",
    "                          feval = feval_rmspe)\n",
    "\n",
    "        y_pred = model.predict(X_test)\n",
    "        curr_rmspe = rmspe(y_test, y_pred)\n",
    "        if curr_rmspe < list_rmspe[i_fold]:\n",
    "            ckp_path = f'./models/{SOL_NAME}/lgb_{i_fold}.pkl'\n",
    "            save_pickle(model, ckp_path)\n",
    "            list_rmspe[i_fold] = curr_rmspe\n",
    "            # generate and save preds\n",
    "            df_result.loc[idx_test, 'pred'] = y_pred\n",
    "        # clear_output()\n",
    "        print(list_rmspe)\n",
    "        calc_metric(df_result.fillna(0))\n",
    "        # 0.2169\n",
    "    # break"
   ],
   "outputs": [
    {
     "output_type": "stream",
     "name": "stdout",
     "text": [
      "Fold 1/5 (343145, 245) (85787, 245)\n",
      "Training until validation scores don't improve for 250 rounds\n",
      "[250]\ttraining's rmse: 0.000427405\ttraining's RMSPE: 0.197532\tvalid_1's rmse: 0.000469495\tvalid_1's RMSPE: 0.218498\n",
      "Early stopping, best iteration is:\n",
      "[130]\ttraining's rmse: 0.000447763\ttraining's RMSPE: 0.206941\tvalid_1's rmse: 0.000468885\tvalid_1's RMSPE: 0.218214\n",
      "Done!\n",
      "[0.21821441457630464, 1, 1, 1, 1]\n",
      "   R2: -1.2291\n",
      "RMSPE: 0.8997\n",
      "Fold 2/5 (343145, 245) (85787, 245)\n",
      "Training until validation scores don't improve for 250 rounds\n",
      "[250]\ttraining's rmse: 0.00042535\ttraining's RMSPE: 0.19631\tvalid_1's rmse: 0.000465093\tvalid_1's RMSPE: 0.217629\n",
      "[500]\ttraining's rmse: 0.000402993\ttraining's RMSPE: 0.185992\tvalid_1's rmse: 0.000462181\tvalid_1's RMSPE: 0.216267\n",
      "[750]\ttraining's rmse: 0.000389685\ttraining's RMSPE: 0.17985\tvalid_1's rmse: 0.00046148\tvalid_1's RMSPE: 0.215938\n",
      "[1000]\ttraining's rmse: 0.000380364\ttraining's RMSPE: 0.175548\tvalid_1's rmse: 0.000460991\tvalid_1's RMSPE: 0.215709\n",
      "Did not meet early stopping. Best iteration is:\n",
      "[1000]\ttraining's rmse: 0.000380364\ttraining's RMSPE: 0.175548\tvalid_1's rmse: 0.000460991\tvalid_1's RMSPE: 0.215709\n",
      "Done!\n",
      "[0.21821441457630464, 0.21570948576524665, 1, 1, 1]\n",
      "   R2: -0.7662\n",
      "RMSPE: 0.7867\n",
      "Fold 3/5 (343147, 245) (85785, 245)\n",
      "Training until validation scores don't improve for 250 rounds\n",
      "[250]\ttraining's rmse: 0.000423513\ttraining's RMSPE: 0.196978\tvalid_1's rmse: 0.000471721\tvalid_1's RMSPE: 0.213941\n",
      "[500]\ttraining's rmse: 0.000400705\ttraining's RMSPE: 0.186369\tvalid_1's rmse: 0.00047026\tvalid_1's RMSPE: 0.213278\n",
      "[750]\ttraining's rmse: 0.000387384\ttraining's RMSPE: 0.180174\tvalid_1's rmse: 0.000470071\tvalid_1's RMSPE: 0.213192\n",
      "Early stopping, best iteration is:\n",
      "[726]\ttraining's rmse: 0.000388577\ttraining's RMSPE: 0.180728\tvalid_1's rmse: 0.000469911\tvalid_1's RMSPE: 0.21312\n",
      "Done!\n",
      "[0.21821441457630464, 0.21570948576524665, 0.21311991812576553, 1, 1]\n",
      "   R2: -0.2214\n",
      "RMSPE: 0.6542\n",
      "Fold 4/5 (343150, 245) (85782, 245)\n",
      "Training until validation scores don't improve for 250 rounds\n",
      "[250]\ttraining's rmse: 0.000426005\ttraining's RMSPE: 0.197694\tvalid_1's rmse: 0.000467032\tvalid_1's RMSPE: 0.213794\n",
      "[500]\ttraining's rmse: 0.000403888\ttraining's RMSPE: 0.18743\tvalid_1's rmse: 0.000462207\tvalid_1's RMSPE: 0.211585\n",
      "[750]\ttraining's rmse: 0.000389657\ttraining's RMSPE: 0.180826\tvalid_1's rmse: 0.000460291\tvalid_1's RMSPE: 0.210708\n",
      "[1000]\ttraining's rmse: 0.000380057\ttraining's RMSPE: 0.176371\tvalid_1's rmse: 0.000459316\tvalid_1's RMSPE: 0.210262\n",
      "Did not meet early stopping. Best iteration is:\n",
      "[1000]\ttraining's rmse: 0.000380057\ttraining's RMSPE: 0.176371\tvalid_1's rmse: 0.000459316\tvalid_1's RMSPE: 0.210262\n",
      "Done!\n",
      "[0.21821441457630464, 0.21570948576524665, 0.21311991812576553, 0.21026151065706594, 1]\n",
      "   R2: 0.3061\n",
      "RMSPE: 0.4866\n",
      "Fold 5/5 (343141, 245) (85791, 245)\n",
      "Training until validation scores don't improve for 250 rounds\n",
      "[250]\ttraining's rmse: 0.00042573\ttraining's RMSPE: 0.196343\tvalid_1's rmse: 0.000487729\tvalid_1's RMSPE: 0.228864\n",
      "[500]\ttraining's rmse: 0.00040376\ttraining's RMSPE: 0.18621\tvalid_1's rmse: 0.000484383\tvalid_1's RMSPE: 0.227294\n",
      "[750]\ttraining's rmse: 0.000390294\ttraining's RMSPE: 0.18\tvalid_1's rmse: 0.000483874\tvalid_1's RMSPE: 0.227054\n",
      "[1000]\ttraining's rmse: 0.000380651\ttraining's RMSPE: 0.175553\tvalid_1's rmse: 0.000483312\tvalid_1's RMSPE: 0.226791\n",
      "Did not meet early stopping. Best iteration is:\n",
      "[1000]\ttraining's rmse: 0.000380651\ttraining's RMSPE: 0.175553\tvalid_1's rmse: 0.000483312\tvalid_1's RMSPE: 0.226791\n",
      "Done!\n",
      "[0.21821441457630464, 0.21570948576524665, 0.21311991812576553, 0.21026151065706594, 0.22679098622310181]\n",
      "   R2: 0.8276\n",
      "RMSPE: 0.2169\n"
     ]
    }
   ],
   "metadata": {}
  },
  {
   "cell_type": "code",
   "execution_count": 18,
   "source": [
    "df_result.to_csv(f'./results/{SOL_NAME}.csv', index=False)"
   ],
   "outputs": [],
   "metadata": {}
  },
  {
   "cell_type": "code",
   "execution_count": null,
   "source": [],
   "outputs": [],
   "metadata": {}
  }
 ]
}