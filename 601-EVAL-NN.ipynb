{
 "metadata": {
  "language_info": {
   "codemirror_mode": {
    "name": "ipython",
    "version": 3
   },
   "file_extension": ".py",
   "mimetype": "text/x-python",
   "name": "python",
   "nbconvert_exporter": "python",
   "pygments_lexer": "ipython3",
   "version": "3.7.10"
  },
  "orig_nbformat": 4,
  "kernelspec": {
   "name": "python3",
   "display_name": "Python 3.7.10 64-bit ('gpu': conda)"
  },
  "interpreter": {
   "hash": "92e15e089105a7a863a6daf4d8bb8fefc62afebb9ac515f25b6afacc0274c8c5"
  }
 },
 "nbformat": 4,
 "nbformat_minor": 2,
 "cells": [
  {
   "cell_type": "code",
   "execution_count": 13,
   "source": [
    "%reload_ext autoreload\n",
    "%autoreload 2\n",
    "\n",
    "import glob\n",
    "import os, gc\n",
    "import numpy as numpy\n",
    "import pandas as pd\n",
    "import scipy as sp\n",
    "import datatable as dt\n",
    "from collections import defaultdict\n",
    "from tqdm.notebook import tqdm\n",
    "from sklearn.utils import shuffle\n",
    "from sklearn.metrics import r2_score\n",
    "from numba import njit\n",
    "from utils import *\n",
    "\n",
    "from IPython.display import clear_output\n",
    "\n",
    "from sklearn.preprocessing import MinMaxScaler\n",
    "\n",
    "# TF\n",
    "import tensorflow as tf\n",
    "import tensorflow.keras.backend as K\n",
    "from tensorflow.keras.callbacks import Callback, ReduceLROnPlateau, ModelCheckpoint, EarlyStopping"
   ],
   "outputs": [],
   "metadata": {}
  },
  {
   "cell_type": "code",
   "execution_count": 14,
   "source": [
    "N_FOLD = 5\n",
    "N_MINS = 5\n",
    "MIN_SIZE = 600 // N_MINS\n",
    "\n",
    "SOL_NAME = '601-NN'\n",
    "DATA_NAME = '601'\n",
    "mkdir(f'./models/{SOL_NAME}/')"
   ],
   "outputs": [],
   "metadata": {}
  },
  {
   "cell_type": "code",
   "execution_count": 15,
   "source": [
    "# CONSTANT\n",
    "MEAN = -5.762330803300896\n",
    "STD = 0.6339307835941186\n",
    "EPS = 1e-9"
   ],
   "outputs": [],
   "metadata": {}
  },
  {
   "cell_type": "code",
   "execution_count": 16,
   "source": [
    "# get ids\n",
    "list_stock_id = get_stock_id()\n",
    "list_time_id = get_time_id()"
   ],
   "outputs": [],
   "metadata": {}
  },
  {
   "cell_type": "markdown",
   "source": [
    "# Functions"
   ],
   "metadata": {}
  },
  {
   "cell_type": "code",
   "execution_count": 17,
   "source": [
    "def transform_target(target):\n",
    "    return (np.log(target + EPS) - MEAN) / STD\n",
    "\n",
    "def inverse_target(target):\n",
    "    return np.exp(MEAN + STD * target) - EPS\n",
    "\n",
    "def np_rmspe(y_true, y_pred):\n",
    "    y_true = inverse_target(y_true)\n",
    "    y_pred = inverse_target(y_pred)\n",
    "    return np.sqrt(np.mean(np.square((y_true - y_pred) / y_true)))\n",
    "\n",
    "def mspe_loss(y_true, y_pred):\n",
    "    y_true = K.exp(MEAN + STD * y_true) - EPS\n",
    "    y_pred = K.exp(MEAN + STD * y_pred) - EPS\n",
    "    return K.sqrt(K.mean(K.square((y_true - y_pred) / y_true)))"
   ],
   "outputs": [],
   "metadata": {}
  },
  {
   "cell_type": "code",
   "execution_count": 18,
   "source": [
    "# def create_mlp(num_columns, num_labels, hidden_units, dropout_rates, learning_rate):\n",
    "#     inp = tf.keras.layers.Input(shape=(num_columns,))\n",
    "#     x = tf.keras.layers.BatchNormalization()(inp)\n",
    "#     for i in range(len(hidden_units)):\n",
    "#         x = tf.keras.layers.Dense(hidden_units[i])(x)\n",
    "#         x = tf.keras.layers.BatchNormalization()(x)\n",
    "#         x = tf.keras.layers.Activation(tf.keras.activations.swish)(x)\n",
    "#     # Output layer\n",
    "#     x = tf.keras.layers.Dense(num_labels)(x)\n",
    "#     out = tf.keras.layers.Activation('linear')(x)\n",
    "#     model = tf.keras.models.Model(inputs=inp, outputs=out)\n",
    "#     model.compile(\n",
    "#         optimizer=tf.keras.optimizers.Adam(learning_rate=learning_rate),\n",
    "#         loss=[mspe_loss],\n",
    "#     )\n",
    "#     return model"
   ],
   "outputs": [],
   "metadata": {}
  },
  {
   "cell_type": "code",
   "execution_count": 19,
   "source": [
    "def create_mlp(num_columns, num_labels, hidden_units, dropout_rates, learning_rate):\n",
    "    inp = tf.keras.layers.Input(shape=(num_columns,))\n",
    "    stock_inp = tf.keras.layers.Input(shape=(1,))\n",
    "    stock_embedded = tf.keras.layers.Embedding(127, 24, input_length=1, name='stock_embedding')(stock_inp)\n",
    "    stock_flattened = tf.keras.layers.Flatten()(stock_embedded)\n",
    "    x = tf.keras.layers.Concatenate()([stock_flattened, inp])\n",
    "    x = tf.keras.layers.BatchNormalization()(x)\n",
    "    # x = tf.keras.layers.Dropout(dropout_rates[0])(x)\n",
    "    for i in range(len(hidden_units)):\n",
    "        # x = tf.keras.layers.Dense(hidden_units[i], kernel_regularizer=tf.keras.regularizers.l1(dropout_rates))(x)\n",
    "        x = tf.keras.layers.Dense(hidden_units[i])(x)\n",
    "        x = tf.keras.layers.BatchNormalization()(x)\n",
    "        x = tf.keras.layers.Activation(tf.keras.activations.swish)(x)\n",
    "        # x = tf.keras.layers.Dropout(dropout_rates[i+1])(x)\n",
    "    # Output layer\n",
    "    x = tf.keras.layers.Dense(num_labels)(x)\n",
    "    out = tf.keras.layers.Activation('linear')(x)\n",
    "    model = tf.keras.models.Model(inputs=[stock_inp, inp], outputs=out)\n",
    "    model.compile(\n",
    "        optimizer=tf.keras.optimizers.Adam(learning_rate=learning_rate),\n",
    "        loss=mspe_loss,\n",
    "    )\n",
    "    return model"
   ],
   "outputs": [],
   "metadata": {}
  },
  {
   "cell_type": "markdown",
   "source": [
    "# Loading data"
   ],
   "metadata": {}
  },
  {
   "cell_type": "code",
   "execution_count": 20,
   "source": [
    "# train\n",
    "df_train = dt.fread(f'./dataset/public_train_{DATA_NAME}_NN.csv').to_pandas()\n",
    "fea_cols = [f for f in df_train if f not in ['time_id', 'target', 'pred_NN', 'stock_id', 'row_id']]\n",
    "\n",
    "# result\n",
    "df_result = dt.fread('./dataset/train.csv').to_pandas()\n",
    "df_result = gen_row_id(df_result)"
   ],
   "outputs": [],
   "metadata": {}
  },
  {
   "cell_type": "code",
   "execution_count": 21,
   "source": [
    "df_train['target'] = transform_target(df_train['target'])\n",
    "df_train = gen_row_id(df_train)\n",
    "df_train = add_time_fold(df_train, N_FOLD)"
   ],
   "outputs": [],
   "metadata": {}
  },
  {
   "cell_type": "markdown",
   "source": [
    "# Evaluation"
   ],
   "metadata": {}
  },
  {
   "cell_type": "code",
   "execution_count": 22,
   "source": [
    "batch_size = 1024\n",
    "# hidden_units = [256]*4\n",
    "hidden_units = [64, 32, 16]\n",
    "dropout_rates = 0\n",
    "learning_rate = 6e-3\n",
    "epochs = 1000\n",
    "\n",
    "list_rmspe = [1 for _ in range(N_FOLD)]"
   ],
   "outputs": [],
   "metadata": {}
  },
  {
   "cell_type": "code",
   "execution_count": 25,
   "source": [
    "n_trials = 3\n",
    "for _ in range(n_trials):\n",
    "    for i_fold in range(N_FOLD):\n",
    "        gc.collect()\n",
    "        df_tr = df_train.loc[df_train.fold!=i_fold]\n",
    "        df_te = df_train.loc[df_train.fold==i_fold]\n",
    "\n",
    "        S_train = df_tr['stock_id'].values\n",
    "        X_train = df_tr[fea_cols].values\n",
    "        y_train = df_tr[['target']].values\n",
    "        S_test = df_te['stock_id'].values\n",
    "        X_test = df_te[fea_cols].values\n",
    "        y_test = df_te[['target']].values\n",
    "        idx_test = df_train.loc[df_train.fold==i_fold].index\n",
    "        print(f'Fold {i_fold+1}/{N_FOLD}', X_train.shape, X_test.shape)\n",
    "\n",
    "        scaler = MinMaxScaler(feature_range=(-1, 1))         \n",
    "        X_train = scaler.fit_transform(X_train)\n",
    "        X_test = scaler.transform(X_test)\n",
    "        save_pickle(scaler, f'./models/{SOL_NAME}/minmax_scaler_{i_fold}.pkl')\n",
    "\n",
    "        # Callbacks\n",
    "        ckp_path = f'./models/{SOL_NAME}/model_601_{i_fold}.hdf5'\n",
    "        rlr = ReduceLROnPlateau(monitor='val_loss', factor=0.1, patience=8, min_delta=1e-5, verbose=2)\n",
    "        es = EarlyStopping(monitor='val_loss', min_delta=1e-5, patience=28, restore_best_weights=True, verbose=2)\n",
    "\n",
    "        model = create_mlp(X_train.shape[1], 1, hidden_units, dropout_rates, learning_rate) \n",
    "        history = model.fit([S_train, X_train], y_train, \n",
    "            epochs=epochs,\n",
    "            validation_data=([S_test, X_test], y_test),\n",
    "            validation_batch_size=len(y_test),\n",
    "            batch_size=batch_size,\n",
    "            verbose=2,\n",
    "            callbacks=[rlr, es]\n",
    "        )\n",
    "        # model = tf.keras.models.load_model(ckp_path, custom_objects={'mspe_loss': mspe_loss})\n",
    "\n",
    "        y_pred = model.predict([S_test, X_test], batch_size=len(y_test))\n",
    "        curr_rmspe = np_rmspe(y_test, y_pred)\n",
    "        if curr_rmspe < list_rmspe[i_fold]:\n",
    "            # model.save(ckp_path)\n",
    "            list_rmspe[i_fold] = curr_rmspe\n",
    "            # generate and save preds\n",
    "            df_result.loc[idx_test, 'pred'] = inverse_target(y_pred)\n",
    "        clear_output()\n",
    "        print(list_rmspe)\n",
    "        calc_metric(df_result.fillna(0))\n",
    "    break"
   ],
   "outputs": [
    {
     "output_type": "stream",
     "name": "stdout",
     "text": [
      "[0.2096668020547297, 0.21244677695053857, 0.21349347770451443, 0.21000272941228676, 0.21920029661194654]\n",
      "   R2: 0.8393\n",
      "RMSPE: 0.2130\n"
     ]
    }
   ],
   "metadata": {}
  },
  {
   "cell_type": "code",
   "execution_count": 24,
   "source": [
    "# df_result.to_csv(f'./results/{SOL_NAME}.csv', index=False)"
   ],
   "outputs": [],
   "metadata": {}
  },
  {
   "cell_type": "code",
   "execution_count": null,
   "source": [],
   "outputs": [],
   "metadata": {}
  }
 ]
}