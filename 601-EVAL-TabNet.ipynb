{
 "metadata": {
  "language_info": {
   "codemirror_mode": {
    "name": "ipython",
    "version": 3
   },
   "file_extension": ".py",
   "mimetype": "text/x-python",
   "name": "python",
   "nbconvert_exporter": "python",
   "pygments_lexer": "ipython3",
   "version": "3.7.10"
  },
  "orig_nbformat": 4,
  "kernelspec": {
   "name": "python3",
   "display_name": "Python 3.7.10 64-bit ('gpu': conda)"
  },
  "interpreter": {
   "hash": "92e15e089105a7a863a6daf4d8bb8fefc62afebb9ac515f25b6afacc0274c8c5"
  }
 },
 "nbformat": 4,
 "nbformat_minor": 2,
 "cells": [
  {
   "cell_type": "code",
   "execution_count": 1,
   "source": [
    "%reload_ext autoreload\n",
    "%autoreload 2\n",
    "\n",
    "import glob\n",
    "import os, gc\n",
    "import numpy as numpy\n",
    "import pandas as pd\n",
    "import scipy as sp\n",
    "import datatable as dt\n",
    "from collections import defaultdict\n",
    "from tqdm.notebook import tqdm\n",
    "from sklearn.utils import shuffle\n",
    "from sklearn.metrics import r2_score\n",
    "from numba import njit\n",
    "from utils import *\n",
    "\n",
    "from IPython.display import clear_output\n",
    "\n",
    "from sklearn.preprocessing import MinMaxScaler\n",
    "\n",
    "\n",
    "from pytorch_tabnet.metrics import Metric\n",
    "from pytorch_tabnet.tab_model import TabNetRegressor\n",
    "\n",
    "import torch\n",
    "from torch.optim import Adam, SGD\n",
    "from torch.optim.lr_scheduler import ReduceLROnPlateau, CosineAnnealingWarmRestarts"
   ],
   "outputs": [
    {
     "output_type": "display_data",
     "data": {
      "text/html": [
       "<style type='text/css'>\n",
       ".datatable table.frame { margin-bottom: 0; }\n",
       ".datatable table.frame thead { border-bottom: none; }\n",
       ".datatable table.frame tr.coltypes td {  color: #FFFFFF;  line-height: 6px;  padding: 0 0.5em;}\n",
       ".datatable .bool    { background: #DDDD99; }\n",
       ".datatable .object  { background: #565656; }\n",
       ".datatable .int     { background: #5D9E5D; }\n",
       ".datatable .float   { background: #4040CC; }\n",
       ".datatable .str     { background: #CC4040; }\n",
       ".datatable .row_index {  background: var(--jp-border-color3);  border-right: 1px solid var(--jp-border-color0);  color: var(--jp-ui-font-color3);  font-size: 9px;}\n",
       ".datatable .frame tr.coltypes .row_index {  background: var(--jp-border-color0);}\n",
       ".datatable th:nth-child(2) { padding-left: 12px; }\n",
       ".datatable .hellipsis {  color: var(--jp-cell-editor-border-color);}\n",
       ".datatable .vellipsis {  background: var(--jp-layout-color0);  color: var(--jp-cell-editor-border-color);}\n",
       ".datatable .na {  color: var(--jp-cell-editor-border-color);  font-size: 80%;}\n",
       ".datatable .footer { font-size: 9px; }\n",
       ".datatable .frame_dimensions {  background: var(--jp-border-color3);  border-top: 1px solid var(--jp-border-color0);  color: var(--jp-ui-font-color3);  display: inline-block;  opacity: 0.6;  padding: 1px 10px 1px 5px;}\n",
       "</style>\n"
      ],
      "text/plain": [
       "<IPython.core.display.HTML object>"
      ]
     },
     "metadata": {}
    }
   ],
   "metadata": {}
  },
  {
   "cell_type": "code",
   "execution_count": 2,
   "source": [
    "N_FOLD = 5\n",
    "N_MINS = 5\n",
    "MIN_SIZE = 600 // N_MINS\n",
    "\n",
    "SOL_NAME = '601-TabNet'\n",
    "DATA_NAME = '601'\n",
    "mkdir(f'./models/{SOL_NAME}/')"
   ],
   "outputs": [],
   "metadata": {}
  },
  {
   "cell_type": "code",
   "execution_count": 3,
   "source": [
    "# CONSTANT\n",
    "MEAN = -5.762330803300896\n",
    "STD = 0.6339307835941186\n",
    "EPS = 1e-9"
   ],
   "outputs": [],
   "metadata": {}
  },
  {
   "cell_type": "code",
   "execution_count": 4,
   "source": [
    "# get ids\n",
    "list_stock_id = get_stock_id()\n",
    "list_time_id = get_time_id()"
   ],
   "outputs": [],
   "metadata": {}
  },
  {
   "cell_type": "markdown",
   "source": [
    "# Functions"
   ],
   "metadata": {}
  },
  {
   "cell_type": "code",
   "execution_count": 5,
   "source": [
    "def transform_target(target):\n",
    "    return (np.log(target + EPS) - MEAN) / STD\n",
    "\n",
    "def inverse_target(target):\n",
    "    return np.exp(MEAN + STD * target) - EPS\n",
    "\n",
    "def np_rmspe(y_true, y_pred):\n",
    "    y_true = inverse_target(y_true)\n",
    "    y_pred = inverse_target(y_pred)\n",
    "    return np.sqrt(np.mean(np.square((y_true - y_pred) / y_true)))\n",
    "\n",
    "\n",
    "class RMSPE(Metric):\n",
    "    def __init__(self):\n",
    "        self._name = \"rmspe\"\n",
    "        self._maximize = False\n",
    "\n",
    "    def __call__(self, y_true, y_pred):\n",
    "        y_true = inverse_target(y_true)\n",
    "        y_pred = inverse_target(y_pred)\n",
    "        return np.sqrt(np.mean(np.square((y_true - y_pred) / y_true)))\n",
    "\n",
    "def RMSPELoss(y_pred, y_true):\n",
    "    y_true = torch.exp(MEAN + STD * y_true) - EPS\n",
    "    y_pred = torch.exp(MEAN + STD * y_pred) - EPS\n",
    "    return torch.sqrt(torch.mean( ((y_true - y_pred) / y_true) ** 2 )).clone()"
   ],
   "outputs": [],
   "metadata": {}
  },
  {
   "cell_type": "markdown",
   "source": [
    "# Loading data"
   ],
   "metadata": {}
  },
  {
   "cell_type": "code",
   "execution_count": 6,
   "source": [
    "# train\n",
    "df_train = dt.fread(f'./dataset/train_{DATA_NAME}_NN.csv').to_pandas()\n",
    "fea_cols = [f for f in df_train if f not in ['time_id', 'target', 'pred_NN', 'stock_id', 'row_id']]\n",
    "\n",
    "# result\n",
    "df_result = dt.fread('./dataset/train.csv').to_pandas()\n",
    "df_result = gen_row_id(df_result)"
   ],
   "outputs": [],
   "metadata": {}
  },
  {
   "cell_type": "code",
   "execution_count": 7,
   "source": [
    "df_train['target'] = transform_target(df_train['target'])\n",
    "df_train = gen_row_id(df_train)"
   ],
   "outputs": [],
   "metadata": {}
  },
  {
   "cell_type": "markdown",
   "source": [
    "# Evaluation"
   ],
   "metadata": {}
  },
  {
   "cell_type": "code",
   "execution_count": 8,
   "source": [
    "tabnet_params = dict(\n",
    "    cat_idxs=[0],\n",
    "    cat_dims=[127],\n",
    "    cat_emb_dim=1,\n",
    "    n_d = 16,\n",
    "    n_a = 16,\n",
    "    n_steps = 2,\n",
    "    gamma = 2,\n",
    "    n_independent = 2,\n",
    "    n_shared = 2,\n",
    "    lambda_sparse = 0,\n",
    "    optimizer_fn = Adam,\n",
    "    optimizer_params = dict(lr = (2e-2)),\n",
    "    mask_type = \"entmax\",\n",
    "    scheduler_params = dict(T_0=200, T_mult=1, eta_min=1e-4, last_epoch=-1, verbose=False),\n",
    "    scheduler_fn = CosineAnnealingWarmRestarts,\n",
    "    seed = 42,\n",
    "    verbose = 10,\n",
    "    # device_name='cpu'\n",
    ")\n",
    "\n",
    "list_seeds = [0, 11, 42]"
   ],
   "outputs": [],
   "metadata": {}
  },
  {
   "cell_type": "code",
   "execution_count": 9,
   "source": [
    "list_rmspe = []\n",
    "for i_seed, seed in enumerate(list_seeds):\n",
    "    df_train = add_time_fold(df_train, N_FOLD, seed=seed)\n",
    "    list_rmspe += [[]]\n",
    "    for i_fold in range(N_FOLD):\n",
    "        gc.collect()\n",
    "        df_tr = df_train.loc[df_train.fold!=i_fold]\n",
    "        df_te = df_train.loc[df_train.fold==i_fold]\n",
    "\n",
    "\n",
    "        X_train = df_tr[['stock_id']+fea_cols].values\n",
    "        y_train = df_tr[['target']].values\n",
    "        X_test = df_te[['stock_id']+fea_cols].values\n",
    "        y_test = df_te[['target']].values\n",
    "        idx_test = df_train.loc[df_train.fold==i_fold].index\n",
    "        print(f'Fold {i_seed+1}/{len(list_seeds)} | {i_fold+1}/{N_FOLD}', X_train.shape, X_test.shape)\n",
    "\n",
    "        scaler = MinMaxScaler(feature_range=(-1, 1))\n",
    "        X_train[:, 1:] = scaler.fit_transform(X_train[:, 1:])\n",
    "        X_test[:, 1:] = scaler.transform(X_test[:, 1:])\n",
    "        save_pickle(scaler, f'./models/{SOL_NAME}/minmax_scaler_{i_seed}_{i_fold}.pkl')\n",
    "\n",
    "        # Callbacks\n",
    "        ckp_path = f'./models/{SOL_NAME}/model_{i_seed}_{i_fold}'\n",
    "\n",
    "        model = TabNetRegressor(**tabnet_params)\n",
    "        model.fit(X_train, y_train,\n",
    "            eval_set=[(X_test, y_test)],\n",
    "            max_epochs=10000,\n",
    "            patience=50,\n",
    "            batch_size=1024*20,\n",
    "            virtual_batch_size=128*20,\n",
    "            num_workers=8,\n",
    "            drop_last=False,\n",
    "            eval_metric=[RMSPE],\n",
    "            loss_fn=RMSPELoss\n",
    "        )\n",
    "\n",
    "\n",
    "        y_pred = model.predict(X_test)\n",
    "        curr_rmspe = np_rmspe(y_test, y_pred)\n",
    "        list_rmspe[-1] += [curr_rmspe]\n",
    "        model.save_model(ckp_path)\n",
    "        # generate and save preds\n",
    "        df_result.loc[idx_test, f'pred_{i_seed}'] = inverse_target(y_pred)\n",
    "        clear_output()\n",
    "        print(list_rmspe)"
   ],
   "outputs": [
    {
     "output_type": "stream",
     "name": "stdout",
     "text": [
      "[[0.20932573216359418, 0.21450710797142347, 0.21467728477515727, 0.21188039971174139, 0.21610412162811835], [0.21667292805020122, 0.21064368083877436, 0.21399648932337212, 0.21419504264008452, 0.22428668088719647], [0.21969074679208403, 0.21413597533061055, 0.2092519252376234, 0.2103655782333957, 0.21265650254589885]]\n"
     ]
    }
   ],
   "metadata": {}
  },
  {
   "cell_type": "code",
   "execution_count": 10,
   "source": [
    "df_result.to_csv(f'./results/{SOL_NAME}.csv', index=False)"
   ],
   "outputs": [],
   "metadata": {}
  },
  {
   "cell_type": "code",
   "execution_count": 11,
   "source": [
    "for i in range(len(list_seeds)):\n",
    "    print(i, rmspe(df_result['target'], df_result[f'pred_{i}']))\n",
    "print('All: ', rmspe(df_result['target'], df_result[[f'pred_{i}' for i in range(len(list_seeds))]].mean(axis=1)))"
   ],
   "outputs": [
    {
     "output_type": "stream",
     "name": "stdout",
     "text": [
      "0 0.21331257396122144\n",
      "1 0.21600768895616343\n",
      "2 0.2132514947044603\n",
      "All:  0.20999046417613576\n"
     ]
    }
   ],
   "metadata": {}
  },
  {
   "cell_type": "code",
   "execution_count": null,
   "source": [],
   "outputs": [],
   "metadata": {}
  }
 ]
}